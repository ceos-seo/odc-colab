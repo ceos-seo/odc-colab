{
  "nbformat": 4,
  "nbformat_minor": 0,
  "metadata": {
    "kernelspec": {
      "display_name": "Python 3",
      "language": "python",
      "name": "python3"
    },
    "language_info": {
      "codemirror_mode": {
        "name": "ipython",
        "version": 3
      },
      "file_extension": ".py",
      "mimetype": "text/x-python",
      "name": "python",
      "nbconvert_exporter": "python",
      "pygments_lexer": "ipython3",
      "version": "3.6.9"
    },
    "colab": {
      "name": "Automated_Testing.ipynb",
      "provenance": [],
      "collapsed_sections": []
    }
  },
  "cells": [
    {
      "cell_type": "code",
      "metadata": {
        "id": "KvJOCXbfPF_s"
      },
      "source": [
        "import ee\n",
        "ee.Authenticate()\n",
        "ee.Initialize()"
      ],
      "execution_count": null,
      "outputs": []
    },
    {
      "cell_type": "code",
      "metadata": {
        "id": "PN_1_iqgFLQA"
      },
      "source": [
        "!wget -nc https://raw.githubusercontent.com/ceos-seo/odc-colab/master/odc_colab.py && git clone https://github.com/ceos-seo/odc-colab\n",
        "from odc_colab import odc_colab_init\n",
        "odc_colab_init(install_odc_gee=True)"
      ],
      "execution_count": null,
      "outputs": []
    },
    {
      "cell_type": "code",
      "metadata": {
        "id": "fs0n9aYGFSKV"
      },
      "source": [
        "from odc_colab import populate_db\n",
        "populate_db()"
      ],
      "execution_count": null,
      "outputs": []
    },
    {
      "cell_type": "code",
      "metadata": {
        "id": "C3yFviKrFKNv"
      },
      "source": [
        "import nbformat\n",
        "from nbconvert.preprocessors import ExecutePreprocessor\n",
        "from nbconvert.preprocessors import CellExecutionError\n",
        "from nbclient.exceptions import CellControlSignal"
      ],
      "execution_count": null,
      "outputs": []
    },
    {
      "cell_type": "markdown",
      "metadata": {
        "id": "ApC8pCH0FKNx"
      },
      "source": [
        "## Get a list of notebooks to run"
      ]
    },
    {
      "cell_type": "code",
      "metadata": {
        "id": "j4O4YZtoFKNx"
      },
      "source": [
        "import sys\n",
        "import os\n",
        "nb_path = '/content/odc-colab/notebooks/'\n",
        "\n",
        "excluded_notebooks = {'01.01.Getting_Started_ODC_and_Colab.ipynb'}\n",
        "\n",
        "def ls_nb(nb_path):\n",
        "  nb_files = []\n",
        "  for nb_path, dirs, files in os.walk(nb_path):\n",
        "    files = set(files).difference(excluded_notebooks)\n",
        "    nb_files += [os.path.join(nb_path, f) for f in files if '.ipynb' in f]\n",
        "  return sorted(nb_files)"
      ],
      "execution_count": null,
      "outputs": []
    },
    {
      "cell_type": "code",
      "metadata": {
        "id": "ONta3TP1IvL6"
      },
      "source": [
        "notebook_file_paths = ls_nb(nb_path)"
      ],
      "execution_count": null,
      "outputs": []
    },
    {
      "cell_type": "markdown",
      "metadata": {
        "id": "A4vpHj21FKNy"
      },
      "source": [
        "## Run the notebooks and record their status (e.g. working, error) to HTML as each completes"
      ]
    },
    {
      "cell_type": "code",
      "metadata": {
        "id": "hIwEARQOFKNy"
      },
      "source": [
        "import re\n",
        "import pandas\n",
        "ansi_escape = re.compile(r'\\x1B(?:[@-Z\\\\-_]|\\[[0-?]*[ -/]*[@-~])')\n",
        "full_report = pandas.DataFrame(columns=['Notebook', 'Status', 'Bug Description'])\n",
        "error_report = pandas.DataFrame(columns=['Notebook', 'Status', 'Bug Description'])\n",
        "success_report = pandas.DataFrame(columns=['Notebook', 'Status', 'Bug Description'])\n",
        "# Unless this cell is rerun, only run notebooks that have not been run successfully yet.\n",
        "success_notebooks = []"
      ],
      "execution_count": null,
      "outputs": []
    },
    {
      "cell_type": "markdown",
      "metadata": {
        "id": "2ZfZrKRNFKNy"
      },
      "source": [
        "**To rerun all notebooks, the file `success_nbks_file_name` must be deleted and then this notebook must be restarted**"
      ]
    },
    {
      "cell_type": "code",
      "metadata": {
        "scrolled": true,
        "id": "oV0mBkWaFKNz",
        "colab": {
          "base_uri": "https://localhost:8080/"
        },
        "outputId": "d606ed8f-6240-4f82-f714-c9dc75685970"
      },
      "source": [
        "import pickle\n",
        "\n",
        "# Load the list of successful notebooks.\n",
        "success_nbks_file_name = 'success_nbks.pkl'\n",
        "if os.path.exists(success_nbks_file_name):\n",
        "    success_nbks_file_in = open(success_nbks_file_name, 'rb')\n",
        "    success_notebooks = pickle.load(success_nbks_file_in)\n",
        "\n",
        "notebook_file_paths_to_run = [nbk_pth for nbk_pth in notebook_file_paths if nbk_pth not in success_notebooks]\n",
        "for notebook_file_path in notebook_file_paths_to_run:\n",
        "    print(f'Running {notebook_file_path}')\n",
        "    run_result = {'Notebook': notebook_file_path, 'Status': 'Working', 'Bug Description': ''}\n",
        "    with open(notebook_file_path, 'r+', encoding='utf-8') as notebook_file:\n",
        "        notebook = nbformat.read(notebook_file, as_version=4)\n",
        "        notebook_runner = ExecutePreprocessor(timeout=None)\n",
        "        try:\n",
        "            notebook_runner.preprocess(notebook, {'metadata': {'path': '/content'}})\n",
        "        except CellExecutionError as err:\n",
        "            run_result['Status'] = 'Error'\n",
        "            run_result['Bug Description'] = err\n",
        "        error = run_result['Status'] == 'Error'\n",
        "        # Save the notebook.\n",
        "#         nbformat.write(notebook, notebook_file_path)\n",
        "    full_report = full_report.append(run_result, ignore_index=True)\n",
        "    if error:\n",
        "        error_report = error_report.append(run_result, ignore_index=True)\n",
        "    else:\n",
        "        # Record that this notebook ran successfully to avoid running it again for this testing session.\n",
        "        success_notebooks.append(notebook_file_path)\n",
        "        success_report = success_report.append(run_result, ignore_index=True)\n",
        "        success_nbks_file_out = open(success_nbks_file_name, 'wb') \n",
        "        pickle.dump(success_notebooks, success_nbks_file_out)\n",
        "    full_report.to_html('full_test_report.html', escape=False, formatters={'Bug Description': lambda e: ansi_escape.sub('', str(e).replace('\\n', '<br/>'))})\n",
        "    error_report.to_html('error_report.html', escape=False, formatters={'Bug Description': lambda e: ansi_escape.sub('', str(e).replace('\\n', '<br/>'))})\n",
        "    success_report.to_html('success_report.html', escape=False, formatters={'Bug Description': lambda e: ansi_escape.sub('', str(e).replace('\\n', '<br/>'))})"
      ],
      "execution_count": null,
      "outputs": [
        {
          "output_type": "stream",
          "name": "stdout",
          "text": [
            "Running /content/odc-colab/notebooks/02.01.Colab_Cloud_Statistics_L8.ipynb\n",
            "Running /content/odc-colab/notebooks/02.02.Colab_Cloud_Statistics_S2.ipynb\n",
            "Running /content/odc-colab/notebooks/02.03.Colab_Median_Mosaic_L8.ipynb\n",
            "Running /content/odc-colab/notebooks/02.04.Colab_Water_WOFS_L8.ipynb\n",
            "Running /content/odc-colab/notebooks/02.05.Colab_Spectral_Products_L8.ipynb\n",
            "Running /content/odc-colab/notebooks/02.06.Colab_Vegetation_Change_L8.ipynb\n",
            "Running /content/odc-colab/notebooks/02.07.Colab_Vegetation_Phenology_L8.ipynb\n",
            "Running /content/odc-colab/notebooks/02.08.01.Colab_S1_Data_Viewer.ipynb\n",
            "Running /content/odc-colab/notebooks/02.08.02.Colab_S1_Flooding.ipynb\n",
            "Running /content/odc-colab/notebooks/02.09.Colab_Mission_Coincidences.ipynb\n",
            "Running /content/odc-colab/notebooks/02.10.Colab_VIIRS_Night_Lights.ipynb\n"
          ]
        }
      ]
    },
    {
      "cell_type": "markdown",
      "metadata": {
        "id": "2aS_a5BOFKN0"
      },
      "source": [
        "### Export the results to a CSV"
      ]
    },
    {
      "cell_type": "code",
      "metadata": {
        "id": "4urWYxHTFKN1"
      },
      "source": [
        "full_report['Bug Description'] = full_report['Bug Description'].map(lambda e: ansi_escape.sub('', str(e)))\n",
        "full_report.to_csv('full_test_report.csv')\n",
        "error_report['Bug Description'] = error_report['Bug Description'].map(lambda e: ansi_escape.sub('', str(e)))\n",
        "error_report.to_csv('error_report.csv')\n",
        "success_report['Bug Description'] = success_report['Bug Description'].map(lambda e: ansi_escape.sub('', str(e)))\n",
        "success_report.to_csv('success_report_report.csv')"
      ],
      "execution_count": null,
      "outputs": []
    },
    {
      "cell_type": "markdown",
      "metadata": {
        "id": "e3ouDjMRixmE"
      },
      "source": [
        "# Display Results"
      ]
    },
    {
      "cell_type": "code",
      "metadata": {
        "id": "YpyflHQ5ajm0"
      },
      "source": [
        "from IPython.display import HTML\n",
        "with open('./full_test_report.html', 'r') as report:\n",
        "  report = report.read()"
      ],
      "execution_count": null,
      "outputs": []
    },
    {
      "cell_type": "code",
      "metadata": {
        "id": "wbO_8_0wa1O5",
        "colab": {
          "base_uri": "https://localhost:8080/",
          "height": 377
        },
        "outputId": "f0890b49-2414-4313-8fbf-94075bdad74c"
      },
      "source": [
        "HTML(report)"
      ],
      "execution_count": null,
      "outputs": [
        {
          "output_type": "execute_result",
          "data": {
            "text/html": [
              "<table border=\"1\" class=\"dataframe\">\n",
              "  <thead>\n",
              "    <tr style=\"text-align: right;\">\n",
              "      <th></th>\n",
              "      <th>Notebook</th>\n",
              "      <th>Status</th>\n",
              "      <th>Bug Description</th>\n",
              "    </tr>\n",
              "  </thead>\n",
              "  <tbody>\n",
              "    <tr>\n",
              "      <th>0</th>\n",
              "      <td>/content/odc-colab/notebooks/02.01.Colab_Cloud_Statistics_L8.ipynb</td>\n",
              "      <td>Working</td>\n",
              "      <td></td>\n",
              "    </tr>\n",
              "    <tr>\n",
              "      <th>1</th>\n",
              "      <td>/content/odc-colab/notebooks/02.02.Colab_Cloud_Statistics_S2.ipynb</td>\n",
              "      <td>Working</td>\n",
              "      <td></td>\n",
              "    </tr>\n",
              "    <tr>\n",
              "      <th>2</th>\n",
              "      <td>/content/odc-colab/notebooks/02.03.Colab_Median_Mosaic_L8.ipynb</td>\n",
              "      <td>Working</td>\n",
              "      <td></td>\n",
              "    </tr>\n",
              "    <tr>\n",
              "      <th>3</th>\n",
              "      <td>/content/odc-colab/notebooks/02.04.Colab_Water_WOFS_L8.ipynb</td>\n",
              "      <td>Working</td>\n",
              "      <td></td>\n",
              "    </tr>\n",
              "    <tr>\n",
              "      <th>4</th>\n",
              "      <td>/content/odc-colab/notebooks/02.05.Colab_Spectral_Products_L8.ipynb</td>\n",
              "      <td>Working</td>\n",
              "      <td></td>\n",
              "    </tr>\n",
              "    <tr>\n",
              "      <th>5</th>\n",
              "      <td>/content/odc-colab/notebooks/02.06.Colab_Vegetation_Change_L8.ipynb</td>\n",
              "      <td>Working</td>\n",
              "      <td></td>\n",
              "    </tr>\n",
              "    <tr>\n",
              "      <th>6</th>\n",
              "      <td>/content/odc-colab/notebooks/02.07.Colab_Vegetation_Phenology_L8.ipynb</td>\n",
              "      <td>Working</td>\n",
              "      <td></td>\n",
              "    </tr>\n",
              "    <tr>\n",
              "      <th>7</th>\n",
              "      <td>/content/odc-colab/notebooks/02.08.01.Colab_S1_Data_Viewer.ipynb</td>\n",
              "      <td>Working</td>\n",
              "      <td></td>\n",
              "    </tr>\n",
              "    <tr>\n",
              "      <th>8</th>\n",
              "      <td>/content/odc-colab/notebooks/02.08.02.Colab_S1_Flooding.ipynb</td>\n",
              "      <td>Working</td>\n",
              "      <td></td>\n",
              "    </tr>\n",
              "    <tr>\n",
              "      <th>9</th>\n",
              "      <td>/content/odc-colab/notebooks/02.09.Colab_Mission_Coincidences.ipynb</td>\n",
              "      <td>Working</td>\n",
              "      <td></td>\n",
              "    </tr>\n",
              "    <tr>\n",
              "      <th>10</th>\n",
              "      <td>/content/odc-colab/notebooks/02.10.Colab_VIIRS_Night_Lights.ipynb</td>\n",
              "      <td>Working</td>\n",
              "      <td></td>\n",
              "    </tr>\n",
              "  </tbody>\n",
              "</table>"
            ],
            "text/plain": [
              "<IPython.core.display.HTML object>"
            ]
          },
          "metadata": {},
          "execution_count": 11
        }
      ]
    }
  ]
}