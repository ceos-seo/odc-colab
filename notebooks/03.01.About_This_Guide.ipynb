{
 "cells": [
  {
   "cell_type": "markdown",
   "metadata": {
    "colab_type": "text",
    "id": "view-in-github"
   },
   "source": [
    "<a href=\"https://colab.research.google.com/github/ceos-seo/odc-colab/blob/main/03.01.About_This_Guide.ipynb\" target=\"_parent\"><img src=\"https://colab.research.google.com/assets/colab-badge.svg\" alt=\"Open In Colab\"/></a>"
   ]
  },
  {
   "cell_type": "markdown",
   "metadata": {
    "id": "cLkIcFHhL25E"
   },
   "source": [
    "###**Table of Contents**\n",
    "<a name=\"top\"></a>\n",
    "\n",
    "1. [About this guide](#About-this-guide)\n",
    "\n",
    "2. <a href=\"https://colab.research.google.com/github/ceos-seo/odc-colab/blob/main/03.02.Briefly_About_Synthetic_Aperture_Radar.ipynb#Top\" target=\"_blank\">Briefly about Synthetic Aperture Radar</a>\n",
    "\n",
    "  2.1. <a href=\"https://colab.research.google.com/github/ceos-seo/odc-colab/blob/main/03.02.Briefly_About_Synthetic_Aperture_Radar.ipynb#2_1_The_radar_wavelength\" target=\"_blank\">The radar wavelength</a>\n",
    "\n",
    "  2.2. <a href=\"https://colab.research.google.com/github/ceos-seo/odc-colab/blob/main/03.02.Briefly_About_Synthetic_Aperture_Radar.ipynb#2_2_Polarisation\" target=\"_blank\">Polarisation</a>\n",
    "  \n",
    "  2.3. <a href=\"https://colab.research.google.com/github/ceos-seo/odc-colab/blob/main/03.02.Briefly_About_Synthetic_Aperture_Radar.ipynb#2_3_Radar_backscatter\" target=\"_blank\">Radar backscatter</a>\n",
    "  \n",
    "  2.4. <a href=\"https://colab.research.google.com/github/ceos-seo/odc-colab/blob/main/03.02.Briefly_About_Synthetic_Aperture_Radar.ipynb#2_4_Backscatter_mechanisms\" target=\"_blank\">Backscatter mechanisms</a>\n",
    "\n",
    "3. <a href=\"https://colab.research.google.com/github/ceos-seo/odc-colab/blob/main/03.03.Synthetic_Aperture_Radar_Data_Used_In_This_Guide.ipynb\" target=\"_blank\">Synthetic Aperture Radar data used in this guide</a>\n",
    "\n",
    "  3.1. <a href=\"https://colab.research.google.com/github/ceos-seo/odc-colab/blob/main/03.03.Synthetic_Aperture_Radar_Data_Used_In_This_Guide.ipynb#3_1_L-band_SAR_data\" target=\"_blank\">L-band SAR data</a>\n",
    "  \n",
    "  3.2. <a href=\"https://colab.research.google.com/github/ceos-seo/odc-colab/blob/main/03.03.Synthetic_Aperture_Radar_Data_Used_In_This_Guide.ipynb#3_2_C-band_SAR_data\" target=\"_blank\">C-band SAR data</a>\n",
    "\n",
    "4. <a href=\"https://colab.research.google.com/github/ceos-seo/odc-colab/blob/main/03.04.Simple_SAR_interpretation_guide.ipynb\" target=\"_blank\">Simple SAR interpretation guide</a>\n",
    "\n",
    "  4.1. <a href=\"https://colab.research.google.com/github/ceos-seo/odc-colab/blob/main/03.04.Simple_SAR_interpretation_guide.ipynb#4_1_Cautions_when_using_this_guide\" target=\"_blank\">Cautions when using this guide</a>\n",
    "\n",
    "  4.2.  <a href=\"https://colab.research.google.com/github/ceos-seo/odc-colab/blob/main/03.04.Simple_SAR_interpretation_guide.ipynb#4_2_Examples\" target=\"_blank\">Examples\n",
    "\n",
    "5. <a href=\"https://colab.research.google.com/github/ceos-seo/odc-colab/blob/main/03.05.Resources_And_References.ipynb\" target=\"_blank\">Resources and references</a>\n",
    "\n",
    "\n",
    "\n",
    "\n",
    "\n",
    "\n",
    "\n",
    "\n",
    "\n",
    "\n",
    "\n",
    "    \n",
    "\n",
    "   \n",
    "\n",
    " \n",
    "\n",
    "\n",
    "    \n",
    "\n",
    "    \n",
    "\n",
    "   \n",
    "\n",
    "\n",
    "\n"
   ]
  },
  {
   "cell_type": "markdown",
   "metadata": {
    "id": "_ENSkFo8NC4l"
   },
   "source": [
    "####**About the Notebook Version of this Guide**\n",
    "\n",
    "This collection of notebooks is an adaptation of the \"CEOS Layman's Interpretation Guide to L-band and C-band Synthetic Aperture Radar data\". The Guide is <a href=\"https://www.researchgate.net/publication/339825765_A_Layman's_Interpretation_Guide_to_L-band_and_C-band_Synthetic_Aperture_Radar_data_v20\" target=\"_blank\">published here</a> with the following description, and is also available as a PDF <a href=\"https://ceos.org/document_management/SEO/DataCube/Laymans_SAR_Interpretation_Guide_2.0.pdf\" target=\"_blank\">here</a>.\n",
    "\n",
    "The intention of this adaptation is to provide a more interactive version of the guide, and also to include a set of examples which run on the <a href=\"https://www.openearthalliance.org/sandbox\" target=\"_blank\">ODC Sandbox</a>. The ODC Sandbox is not required to run the guide, however if you would like to run the examples there are a set of setup steps you will need to follow on the <a href=\"https://www.openearthalliance.org/sandbox\" target=\"_blank\">ODC Sandbox page</a>.\n",
    "\n",
    "<div align=\"center\">\n",
    "<a href=\"https://www.openearthalliance.org/sandbox\" target=\"_blank\">\n",
    "<img src=\"https://raw.githubusercontent.com/ceos-seo/odc-colab/main/Images/odc_logo.png\"></img></a></div>\n"
   ]
  },
  {
   "cell_type": "markdown",
   "metadata": {
    "id": "ZrNp8RSheyRk"
   },
   "source": [
    "<a name=\"About-this-guide\"></a>\n",
    "###**1 About this guide**"
   ]
  },
  {
   "cell_type": "markdown",
   "metadata": {
    "id": "Z205xTSJe10U"
   },
   "source": [
    "This “layman’s” guide was developed to provide users who have little or no experience of spaceborne Synthetic Aperture Radar (SAR) data with a simple reference document that outlines some basic concepts of radar remote sensing, presents some commonly used SAR datasets, and provides some examples of how a few different land cover types may appear in SAR imagery."
   ]
  },
  {
   "cell_type": "markdown",
   "metadata": {
    "id": "sMXdMk7-e6dP"
   },
   "source": [
    "The guide does not go into the depths of microwave theory or radar processing (there is plenty of literature covering that) as expert knowledge today no longer should need to be a major concern for most users. Many space data providers are also now moving towards the provision of so called analysis-ready data also for SAR, which can be used and integrated with other data sources with little or no need for users to undertake their own processing."
   ]
  },
  {
   "cell_type": "markdown",
   "metadata": {
    "id": "V6trMbWse-UG"
   },
   "source": [
    "That said, some basic understanding of SAR technology and how radar signals interact with the ground is nevertheless required to properly utilise SAR data, as the concept of radar and microwaves is different from that of traditional optics. Different, but not necessarily difficult."
   ]
  },
  {
   "cell_type": "markdown",
   "metadata": {
    "id": "9yrWcjfemtpd"
   },
   "source": [
    "[Back to the top](#top)"
   ]
  }
 ],
 "metadata": {
  "colab": {
   "collapsed_sections": [],
   "include_colab_link": true,
   "name": "03.01.About_This_Guide.ipynb",
   "provenance": []
  },
  "kernelspec": {
   "display_name": "Python 3",
   "language": "python",
   "name": "python3"
  },
  "language_info": {
   "codemirror_mode": {
    "name": "ipython",
    "version": 3
   },
   "file_extension": ".py",
   "mimetype": "text/x-python",
   "name": "python",
   "nbconvert_exporter": "python",
   "pygments_lexer": "ipython3",
   "version": "3.8.5"
  }
 },
 "nbformat": 4,
 "nbformat_minor": 1
}