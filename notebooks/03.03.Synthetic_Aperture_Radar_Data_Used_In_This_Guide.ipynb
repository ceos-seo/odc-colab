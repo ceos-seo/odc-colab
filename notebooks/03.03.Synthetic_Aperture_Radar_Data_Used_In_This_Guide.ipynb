{
  "nbformat": 4,
  "nbformat_minor": 0,
  "metadata": {
    "colab": {
      "name": "03.03.Synthetic_Aperture_Radar_Data_Used_In_This_Guide.ipynb",
      "provenance": [],
      "collapsed_sections": [],
      "include_colab_link": true
    },
    "kernelspec": {
      "name": "python3",
      "display_name": "Python 3"
    },
    "language_info": {
      "name": "python"
    }
  },
  "cells": [
    {
      "cell_type": "markdown",
      "metadata": {
        "id": "view-in-github",
        "colab_type": "text"
      },
      "source": [
        "<a href=\"https://colab.research.google.com/github/ceos-seo/odc-colab/blob/main/03.03.Synthetic_Aperture_Radar_Data_Used_In_This_Guide.ipynb\" target=\"_parent\"><img src=\"https://colab.research.google.com/assets/colab-badge.svg\" alt=\"Open In Colab\"/></a>"
      ]
    },
    {
      "cell_type": "markdown",
      "metadata": {
        "id": "cGeWPKXlmdO0"
      },
      "source": [
        "####**3 Synthetic Aperture Radar data used in this guide**"
      ]
    },
    {
      "cell_type": "markdown",
      "metadata": {
        "id": "LrylMyFx3uBy"
      },
      "source": [
        "<a name=\"Top\"></a>\n",
        "\n",
        "1. <a href=\"https://colab.research.google.com/github/ceos-seo/odc-colab/blob/main/03.01.About_This_Guide.ipynb\" target=\"_blank\">About this guide</a>\n",
        "\n",
        "2. <a href=\"https://colab.research.google.com/github/ceos-seo/odc-colab/blob/main/03.02.Briefly_About_Synthetic_Aperture_Radar.ipynb\" target=\"_blank\">Briefly about Synthetic Aperture Radar</a>\n",
        "\n",
        "3. [Synthetic Aperture Radar data used in this guide](#Top)\n",
        "\n",
        "    3.1. [L-band SAR data](#3_1_L-band_SAR_data)\n",
        "\n",
        "      3.1.1. [ALOS-2 PALSAR-2](#3_1_1_ALOS_2_PALSAR_2)\n",
        "      \n",
        "      3.1.2. [C-band SAR data](#3_1_2_ALOS_2_PALSAR_2_global_mosaics)\n",
        "\n",
        "      3.1.2.1. [Geometric and radiometric corrections](#3_1_2_1_Geometric_and_radiometric_corrections)\n",
        "      \n",
        "      3.1.2.2. [Image and metadata](#3_1_2_2_Image_and_metadata)\n",
        "\n",
        "      3.1.2.3. [Data Layer description](#3_1_2_3_Data_Layer_description)\n",
        "      \n",
        "    3.2. [C-band SAR data](#3_2_C-band_SAR_data)\n",
        "\n",
        "      3.2.1. [Copernicus Sentinel-1](#3_2_1_Copernicus_Sentinel-1)\n",
        "\n",
        "      3.2.2. [SNAP and data formats](#3_2_2_SNAP_and_data_formats)\n",
        "\n",
        "      3.2.3. [Geometric and radiometric corrections](#3_2_3_Geometric_and_radiometric_corrections)\n",
        "\n",
        "\n",
        "4. <a href=\"https://colab.research.google.com/github/ceos-seo/odc-colab/blob/main/03.04.Simple_SAR_interpretation_guide.ipynb\" target=\"_blank\"> Simple SAR interpretation guide</a>\n",
        "\n",
        "5. <a href=\"https://colab.research.google.com/github/ceos-seo/odc-colab/blob/main/03.05.Resources_And_References.ipynb\" target=\"_blank\">Resources and references</a>"
      ]
    },
    {
      "cell_type": "markdown",
      "metadata": {
        "id": "llZumesSmsMQ"
      },
      "source": [
        "<a name=\"3_1_L-band_SAR_data\"></a>\n",
        "#####**3.1 L-band SAR data**"
      ]
    },
    {
      "cell_type": "markdown",
      "metadata": {
        "id": "RQhPCsIZnFUY"
      },
      "source": [
        "<a name=\"3_1_1_ALOS_2_PALSAR_2\"></a>\n",
        "######**3.1.1 ALOS-2 PALSAR-2**"
      ]
    },
    {
      "cell_type": "markdown",
      "metadata": {
        "id": "Fz9UmP8KnPcx"
      },
      "source": [
        "The Advanced Land Observing Satellite 2 (ALOS-2) was launched by the Japan Aerospace Exploration Agency (JAXA) in 2014. It carries a Synthetic Aperture Radar (PALSAR-2) instrument which operates in L-band (23.5 cm) wavelength. It provides single, dual and full polarisation capability and observation modes with varying ground resolutions (1 m ~ 100 m) and imaging swath widths (25 km ~ 500 km). ALOS-2 operates with a 14-day (ground track) repeat cycle. \n"
      ]
    },
    {
      "cell_type": "markdown",
      "metadata": {
        "id": "2D8vu7oynd1R"
      },
      "source": [
        "The ALOS-2 mission was preceded by ALOS PALSAR (2006-2011) and JERS-1 SAR (1992-1998). All three missions have been subject to global systematic observation strategies and a consistent archive of L-band SAR data dating back to the mid-1990s therefore exists for most areas in the world, with higher density in the tropics."
      ]
    },
    {
      "cell_type": "markdown",
      "metadata": {
        "id": "i8SkRU2J5wv8"
      },
      "source": [
        "[Back to the top](#Top)"
      ]
    },
    {
      "cell_type": "markdown",
      "metadata": {
        "id": "HgHGn1VBnnyH"
      },
      "source": [
        "<a name=\"3_1_2_ALOS_2_PALSAR_2_global_mosaics\"></a>\n",
        "######**3.1.2 ALOS-2 PALSAR-2 global mosaics**"
      ]
    },
    {
      "cell_type": "markdown",
      "metadata": {
        "id": "g5mvCXDDn0Lv"
      },
      "source": [
        "For this user guide, 25 m pixel spacing global mosaic data generated from ALOS-2 PALSAR-2 dual polarisation (HH + HV) data acquired in 10 m ground resolution stripmap mode were used. The mosaics were generated by assembling adjacent satellite observation swaths, each 70 km wide and up to several  thousand km long, to form a seamless global mosaic. The original 10 m resolution data were resampled (averaged) to 25 m (0.8 arcsec) pixel spacing. The (global) incidence angles vary between 28.5° (near range, closest to the satellite) and 42.5° (far range)."
      ]
    },
    {
      "cell_type": "markdown",
      "metadata": {
        "id": "mNWoVz8Fn5KM"
      },
      "source": [
        "To avoid huge data files, the mosaics are provided in rectangular tiles, 1° by 1° in latitude and longitude direction."
      ]
    },
    {
      "cell_type": "markdown",
      "metadata": {
        "id": "kBY8kz6O7W8o"
      },
      "source": [
        "*ALOS PALSAR global mosaic at 25 m (0.8 arcsec) pixel spacing. HH+HV polarisation composite.*\n",
        "<div align=\"center\">\n",
        "<img src=\"https://github.com/ceos-seo/odc-colab/blob/main/Images/10.%20ALOS%20PALSAR%20global%20mosaic.jpg?raw=true\" width=\"500\" ></img></div>"
      ]
    },
    {
      "cell_type": "markdown",
      "metadata": {
        "id": "ObWoHZ4No5p3"
      },
      "source": [
        "JAXA generates global mosaics on an annual basis. ALOS-2 PALSAR-2 mosaics are available for the years 2015, 2016 and 2017; ALOS PALSAR mosaics for 2007, 2008, 2009 and 2010; and one JERS-1 SAR global mosaic is available from 1996. All global mosaic data can be downloaded free of charge from JAXA at: https://www.eorc.jaxa.jp/ALOS/en/palsar_fnf/fnf_index.htm"
      ]
    },
    {
      "cell_type": "markdown",
      "metadata": {
        "id": "-eoh3xN4o-2m"
      },
      "source": [
        "The JAXA global mosaic datasets are Analysis-Ready Data (ARD), meaning that they have been have been subject to full geometric and radiometric corrections and organised into a form, and with corresponding metadata, that should allow immediate analysis with a minimum of additional user effort. "
      ]
    },
    {
      "cell_type": "markdown",
      "metadata": {
        "id": "861cN3wRFBq8"
      },
      "source": [
        "[Back to the top](#Top)"
      ]
    },
    {
      "cell_type": "markdown",
      "metadata": {
        "id": "2FSEmYIppBaW"
      },
      "source": [
        "<a name=\"3_1_2_1_Geometric_and_radiometric_corrections\"></a>\n",
        "######**3.1.2.1  Geometric and radiometric corrections**"
      ]
    },
    {
      "cell_type": "markdown",
      "metadata": {
        "id": "63vCR08-pIAF"
      },
      "source": [
        "The mosaics are ortho-rectified using SRTM 30 m (1 arcsec) Digital Elevation Model.  The mosaics are provided in geographical (lat/long) coordinates, using the GRS80 ellipsoid. The original 10 m stripmap data have been resampled (averaged) to pixel spacing of 0.8 arc seconds, corresponding to approximately 24.7 m at the Equator.\n",
        "\n",
        "Full Radiometric Terrain Correction (RTC) using SRTM 30 m DEM has been applied to correct for incidence angle and topographic effects on image intensity, giving the images a “flat” look as terrain relief effects have been removed. The backscatter is given as gamma-nought ($\\gamma^{o}$). \n"
      ]
    },
    {
      "cell_type": "markdown",
      "metadata": {
        "id": "y1MqUCWVE-FR"
      },
      "source": [
        "[Back to the top](#Top)"
      ]
    },
    {
      "cell_type": "markdown",
      "metadata": {
        "id": "GcLJU3R4pWVR"
      },
      "source": [
        "<a name=\"3_1_2_2_Image_and_metadata\"></a>\n",
        "######**3.1.2.2  Image and metadata**"
      ]
    },
    {
      "cell_type": "markdown",
      "metadata": {
        "id": "qFVt9VbmozZf"
      },
      "source": [
        "The mosaic datasets comprise five separate images/layers, and ENVI-formatted headers:\n",
        "* Radar backscatter ($\\gamma^{o}$) – HH polarisation\n",
        "* Radar backscatter($\\gamma^{o}$) – HV polarisation\n",
        "* Local incidence angle\n",
        "* Observation date image\n",
        "* Mask image\n",
        "\n",
        "\n",
        "\n",
        "\n",
        "\n",
        "\n"
      ]
    },
    {
      "cell_type": "markdown",
      "metadata": {
        "id": "wJ4gBDr9p7Ev"
      },
      "source": [
        "File name convention: AAABBBB_YY_[layer indicator], where\n",
        "AAA: latitude of tile upper left corner [e.g. S01]\n",
        "BBBB: longitude of tile upper left corner [e.g. E041]\n",
        "YY: two last digits of mosaic year [e.g. 09 for 2009]\n",
        "[layer indicator]: “sl_HH”; “sl_HV”; “date”; “linci”; “mask”\n"
      ]
    },
    {
      "cell_type": "markdown",
      "metadata": {
        "id": "wc62Hnt0qClD"
      },
      "source": [
        "ALOS-2 mosaics have the additional extension “_F02DAR”, where \n",
        "\n",
        "F02: Stripmap Fine Beam, mode #2\n",
        "\n",
        "D: Dual polarisation\n",
        "\n",
        "A: Ascending pass\n",
        "\n",
        "R: Right-Looking\n"
      ]
    },
    {
      "cell_type": "markdown",
      "metadata": {
        "id": "Jsu3HWSGEuQo"
      },
      "source": [
        "[Back to the top](#Top)"
      ]
    },
    {
      "cell_type": "markdown",
      "metadata": {
        "id": "G-p9hEGCooRn"
      },
      "source": [
        "<a name=\"3_1_2_3_Data_Layer_description\"></a>\n",
        "######**3.1.2.3    Data Layer description** "
      ]
    },
    {
      "cell_type": "markdown",
      "metadata": {
        "id": "i9YGtIcZqWUX"
      },
      "source": [
        "**Radar backscatter**"
      ]
    },
    {
      "cell_type": "markdown",
      "metadata": {
        "id": "1Mmhq6_37_Eq"
      },
      "source": [
        "*Radar backscatter – HH polarisation*\n",
        "*(Central Kenya, with Mt.Kenya)*\n",
        "<div align=\"center\">\n",
        "<img src=\"https://github.com/ceos-seo/odc-colab/blob/main/Images/11.1%20Radar%20backscatter%20HH%20polarisation.jpg?raw=true\" width=\"500\" ></img></div>"
      ]
    },
    {
      "cell_type": "markdown",
      "metadata": {
        "id": "ciBbsLrc8WBQ"
      },
      "source": [
        "*Radar backscatter – HV polarisation*\n",
        "*(PALSAR-2 mosaic tile N00°/E037°)*\n",
        "<div align=\"center\">\n",
        "<img src=\"https://github.com/ceos-seo/odc-colab/blob/main/Images/11.2%20Radar%20backscatter%20HV%20polarisation.jpg?raw=true\" width=\"500\" ></img></div>"
      ]
    },
    {
      "cell_type": "markdown",
      "metadata": {
        "id": "S3tij8EOqpne"
      },
      "source": [
        "**Content:** Calibrated radar backscatter amplitude at HH polarisation and HV polarisation.\n",
        "\n",
        "**Data type:** 16 bits Unsigned Integer (UINT16)\n",
        "\n",
        "**Format:** GeoTIFF\n",
        "\n",
        "**Size:** 4500 pixels x 4500 lines (40.5 MB) \n",
        "\n",
        "**File names:** AAABBBB_YY_[sl_HH] \n",
        "                AAABBBB_YY_[sl_HV]\n"
      ]
    },
    {
      "cell_type": "markdown",
      "metadata": {
        "id": "L3N-BKMJrCls"
      },
      "source": [
        "Radar backscatter amplitude is provided as two separate images: one for the Horizontal-Horizontal (HH) polarisation, and one for Horizontal-Vertical (HV) ditto. The backscatter images constitute the data files on which all analysis should be undertaken.  \n",
        "\n",
        "SAR backscatter amplitude data have a large radiometric dynamic range with DN values ranging up to several thousand and are therefore provided as 16 bits unsigned integer data (accommodating DN values 0 ~ 63000).\n"
      ]
    },
    {
      "cell_type": "markdown",
      "metadata": {
        "id": "OwbtBYIurHqz"
      },
      "source": [
        "As mentioned above, the linear backscatter values in the HH and HV images can be converted from image digital numbers (DN) to $\\gamma^o$, and expressed in decibel (dB), by the equation:\n",
        "\n",
        " $\\gamma^o$ = $10 * log_{10}(DN^2) -83.0  [dB]$\n"
      ]
    },
    {
      "cell_type": "markdown",
      "metadata": {
        "id": "x8I3As8srjTx"
      },
      "source": [
        "**Local incidence angle**"
      ]
    },
    {
      "cell_type": "markdown",
      "metadata": {
        "id": "R71ACu2m9OL3"
      },
      "source": [
        "*Local incidence angle*\n",
        "<div align=\"center\">\n",
        "<img src=\"https://github.com/ceos-seo/odc-colab/blob/main/Images/12.%20Local%20incidence%20angle.jpg?raw=true\" width=\"500\" ></img></div>"
      ]
    },
    {
      "cell_type": "markdown",
      "metadata": {
        "id": "TV-NoALTr2eN"
      },
      "source": [
        "**Content:** Image showing the local incidence angle [unit: degrees]\n",
        "\n",
        "**Data type:** 8 bits (BYTE)\n",
        "\n",
        "**Format:** GeoTIFF\n",
        "\n",
        "**Size:** 4500 pixels x 4500 lines (20.3 MB) \n",
        "\n",
        "**File name:** AAABBBB_YY_[linci] \n"
      ]
    },
    {
      "cell_type": "markdown",
      "metadata": {
        "id": "1LXu9B7CsJm4"
      },
      "source": [
        "The incidence angle image is derived from the SRTM Digital Elevation Model used for geometric and radiometric correction. It has the same size as the backscatter images and provides information about local incidence angle, i.e. the angle between Earth normal at the pixel location and the SAR sensor, for each pixel in the image. The pixel value indicates the angle in degrees.\n",
        "\n",
        "In the example above, steep terrain around Mount Kenya and other mountain ridges impact the angle between the Earth and the satellite, whereas other parts of the image have more uniform incidence angles due to flatter terrain. The mosaic border between two of the satellite swaths used to create the mosaic tile is visible as a light (far range) to dark (near range) discontinuity in the upper right corner of the image (the PALSAR-2 instrument look direction in the image is from left to right).\n"
      ]
    },
    {
      "cell_type": "markdown",
      "metadata": {
        "id": "UGwzGIyKsNWZ"
      },
      "source": [
        "**Observation date image**"
      ]
    },
    {
      "cell_type": "markdown",
      "metadata": {
        "id": "9V1tu0Ii9l_K"
      },
      "source": [
        "*Observation date*\n",
        "<div align=\"center\">\n",
        "<img src=\"https://github.com/ceos-seo/odc-colab/blob/main/Images/13.%20Observation%20date%20image.png?raw=true\" width=\"500\" ></img></div>"
      ]
    },
    {
      "cell_type": "markdown",
      "metadata": {
        "id": "AFqh3Re9scOR"
      },
      "source": [
        "**Content:** Image showing the observation date \n",
        "\n",
        "**Data type:** 16 bits Unsigned Integer (UINT16)\n",
        "\n",
        "**Format:** GeoTIFF\n",
        "\n",
        "**Size:** 4500 pixels x 4500 lines (40.5 MB) \n",
        "\n",
        "**File name:** AAABBBB_YY_[date] \n"
      ]
    },
    {
      "cell_type": "markdown",
      "metadata": {
        "id": "ptwqvmRbsrjY"
      },
      "source": [
        "As the mosaic tiles are composed of SAR data from multiple satellite paths, an observation date image is required to provide information about the date of acquisition for each pixel in the mosaic tile. \n",
        "\n",
        "The (16 bits) pixel digital numbers in the observation date image correspond to the number of days after the launches of ALOS-2 and ALOS and JERS-1 satellites. ALOS-2 was launched on May 24, 2014 (used for the 2015, 2016 and 2017 mosaics), ALOS on Jan. 24, 2006 (used for the 2007, 2008, 2009 and 2010 mosaics), and JERS-1 on Feb. 11, 1992 (used for the 1996 mosaic). \n"
      ]
    },
    {
      "cell_type": "markdown",
      "metadata": {
        "id": "vq0qoYsRswGX"
      },
      "source": [
        "The Digital Numbers 409, 470 and 498 in the ALOS-2 mosaic image shown in the image above thus correspond to: \n",
        "\n",
        "$$24/05/2014 + 1226 = 01/10/2017$$$$24/05/2014 + 1198 = 03/09/2017$$\n",
        "$$24/05/2014 + 1137 = 04/07/2017$$\n",
        "\n",
        "Note that dates are provided in UTC (Coordinated Universal Time), which, depening on the geographic location, may differ from the local time the observation took place.\n"
      ]
    },
    {
      "cell_type": "markdown",
      "metadata": {
        "id": "311cgl-ytG14"
      },
      "source": [
        "**Mask image**"
      ]
    },
    {
      "cell_type": "markdown",
      "metadata": {
        "id": "L1bp8oe3-UWO"
      },
      "source": [
        "*Mask image and Look-up table of DN values*\n",
        "<div align=\"center\">\n",
        "<img src=\"https://github.com/ceos-seo/odc-colab/blob/main/Images/14.%20Mask%20image%20and%20Look-up%20table%20of%20DN%20values.png?raw=true\" width=\"600\" ></img></div>"
      ]
    },
    {
      "cell_type": "markdown",
      "metadata": {
        "id": "yV6tnJJBtVIK"
      },
      "source": [
        "**Content:** Mask image\n",
        "\n",
        "**Data type:** 8 bits (BYTE)\n",
        "\n",
        "**Format:** GeoTIFF\n",
        "\n",
        "**Size:** 4500 pixels x 4500 lines (20.3 MB) \n",
        "\n",
        "**File name:** AAABBBB_YY_[mask] \n"
      ]
    },
    {
      "cell_type": "markdown",
      "metadata": {
        "id": "5XBEUeoktktS"
      },
      "source": [
        "The mask image indicates pixels affected by radar-specific geometric distortions; including layover (causing tall objects to be displaced towards the sensor – shown in green above) [DN=100] and radar shadowing (areas not illuminated by the radar, such as e.g. the backside of steep mountains – shown in red above) [DN=150]. "
      ]
    },
    {
      "cell_type": "markdown",
      "metadata": {
        "id": "en4cZcMftoQM"
      },
      "source": [
        "The mask image also contains information about no-data [DN=0] and water pixels [DN=50]. \n",
        "\n",
        "Caution: It should be noted that while the water mask may be useful for distinction of ocean areas, it is not recommended for masking of inland water bodies, which frequently are confused with low backscatter land areas, or may be missing altogether. \n",
        "\n",
        "Pixels not belonging to any of the above categories are given DN value 255.\n"
      ]
    },
    {
      "cell_type": "markdown",
      "metadata": {
        "id": "Q_txz6HztuAU"
      },
      "source": [
        "**Header files**"
      ]
    },
    {
      "cell_type": "markdown",
      "metadata": {
        "id": "sHdCrzGA-yxH"
      },
      "source": [
        "*Header file content(example)*\n",
        "<div align=\"center\">\n",
        "<img src=\"https://github.com/ceos-seo/odc-colab/blob/main/Images/15.%20Header%20file%20content%20(example).png?raw=true\" width=\"500\" ></img></div>"
      ]
    },
    {
      "cell_type": "markdown",
      "metadata": {
        "id": "tYoMFMZLt55C"
      },
      "source": [
        "Each image layer is accompanied by an ENVI-formatted header file.\n",
        "\n",
        "**Content:** Image header \n",
        "\n",
        "**Data type:** ASCII \n",
        "\n",
        "**Format:** Text file\n",
        "\n",
        "**File name:** AAABBBB_YY_[xxx].hdr \n"
      ]
    },
    {
      "cell_type": "markdown",
      "metadata": {
        "id": "iNMaJMAwuGu1"
      },
      "source": [
        "In data in RAW format, a header file is provided. The header files for all five image layers in a given mosaic tile are identical, with the exception of the “data type” entry, which is 1 for the 8 bits BYTE images (Local incidence angle & Mask) and 12 for the 16 bits UINT images (HH and HV backscatter & Date)."
      ]
    },
    {
      "cell_type": "markdown",
      "metadata": {
        "id": "Wm-QX12OuJ3m"
      },
      "source": [
        "Full mosaic dataset description from JAXA is available at:\n",
        "https://www.eorc.jaxa.jp/ALOS/en/palsar_fnf/DatasetDescription_PALSAR2_Mosaic_FNF_revH.pdf\n",
        "\n"
      ]
    },
    {
      "cell_type": "markdown",
      "metadata": {
        "id": "FT2WUsFh59lP"
      },
      "source": [
        "[Back to the top](#Top)"
      ]
    },
    {
      "cell_type": "markdown",
      "metadata": {
        "id": "59t6jAEFuPc9"
      },
      "source": [
        "<a name=\"3_2_C-band_SAR_data\"></a>\n",
        "#####**3.2  C-band SAR data**"
      ]
    },
    {
      "cell_type": "markdown",
      "metadata": {
        "id": "8aquTpjbudCO"
      },
      "source": [
        "<a name=\"3_2_1_Copernicus_Sentinel-1\"></a>\n",
        "######**3.2.1  Copernicus Sentinel-1**"
      ]
    },
    {
      "cell_type": "markdown",
      "metadata": {
        "id": "YkY-47kwui4l"
      },
      "source": [
        "The Sentinel-1 mission constitutes the radar component of the Copernicus joint initiative of the European Commission (EC) and the European Space Agency (ESA). The Sentinel-1 mission is composed of a constellation of two satellites, Sentinel-1A and Sentinel-1B, which provides 12-day (ground track) repeat cycle for one satellite, and 6-day (ground track) repeat for two satellites. Taking advantage of converging satellite tracks at higher latitudes and the possibility to observe in both ascending (south-to-north) and descending (north-to-south) directions, a given ground location can be covered at even higher frequency (such as the case is for Europe)."
      ]
    },
    {
      "cell_type": "markdown",
      "metadata": {
        "id": "4yXLgZYUuler"
      },
      "source": [
        "Sentinel-1 operates in C-band (5.6 cm) wavelength and provides single or dual polarisation capability. For this guide, VV and VH dual polarisation data acquired in Interferometric Wide (IW) swath mode have been used. The IW mode images the ground with three sub-swaths (see figure below) which provide a combined 250 km swath width with an incidence angle variation across the swath between 29.1° (near range) and 46.0° (far range). The “raw” spatial resolution of the sensor in IW mode is about 3 m in range direction (perpendicular to the satellite velocity vector) and 22 m in azimuth (parallel to the satellite track). The pixel spacing of the user products vary depending on product type and processing level (see 3.2.2. below).  "
      ]
    },
    {
      "cell_type": "markdown",
      "metadata": {
        "id": "tK3dqaz8_GTi"
      },
      "source": [
        "*Sentinel-1 Interferometric Wide (IW) Swath. VV+VH polarisation composite (Turkana/Samburu, Kenya, 6-OCT-2017)*\n",
        "<div align=\"center\">\n",
        "<img src=\"https://github.com/ceos-seo/odc-colab/blob/main/Images/16.%20Sentinel-1%20Interferometric%20Wide(IW)%20Swath.jpg?raw=true\" width=\"500\" ></img></div>"
      ]
    },
    {
      "cell_type": "markdown",
      "metadata": {
        "id": "l9akp9xVuzwp"
      },
      "source": [
        "Free and open-access Sentinel-1 SAR data are available through the Copernicus Open Access Hub (https://scihub.copernicus.eu) and the Alaska Satellite Facility (https://www.asf.alaska.edu/sentinel)."
      ]
    },
    {
      "cell_type": "markdown",
      "metadata": {
        "id": "nwylZpf16AbN"
      },
      "source": [
        "[Back to the top](#Top)"
      ]
    },
    {
      "cell_type": "markdown",
      "metadata": {
        "id": "D45roB1bu5m-"
      },
      "source": [
        "<a name=\"3_2_2_SNAP_and_data_formats\"></a>\n",
        "######**3.2.2  SNAP and data formats**"
      ]
    },
    {
      "cell_type": "markdown",
      "metadata": {
        "id": "hQqGI08lvAgB"
      },
      "source": [
        "The Sentinel-1 data used in this guide were processed using the Sentinel Application Platform (SNAP), which is a collection of executable tools and Application Programming Interfaces (APIs) which have been developed to facilitate the utilisation, viewing, and processing of a variety of satellite data. SNAP is a free software developed and distributed under the terms of GNU General Public License and comes with full Java source code available on GitHub. The SNAP toolbox can ingest either Single-Look Complex (SLC) or Ground Range Detected (GRD) product level $data^2$. "
      ]
    },
    {
      "cell_type": "markdown",
      "metadata": {
        "id": "dj6FJWbuvMR-"
      },
      "source": [
        "Single-Look Complex (SLC) products are images in the slant range, geo-referenced using orbit and attitude data from the satellite. As the name indicates, SLC products are single-look, meaning that they have not been averaged (multi-looked) and hence comprise full speckle information. In slant range geometry, the pixel spacing in range and azimuth are different (2.3m and 14.1m respectively for ESA products). Each image pixel is represented by a complex (I and Q) number and thus contains both amplitude and phase information. SLC level data are required for interferometric or polarimetric (e.g. polarimetric decomposition) applications. "
      ]
    },
    {
      "cell_type": "markdown",
      "metadata": {
        "id": "lLb3goQMvPFg"
      },
      "source": [
        "Ground Range Detected (GRD) level data contain no phase information. For applications where only backscatter is of interest, GRD data, which are significantly smaller in size than SLC, would be recommended. GRD products have been multi-looked (averaged) and projected from slant range (sensor look direction) to ground range onto an Earth ellipsoid model. High Resolution (HR) IW GRD products from ESA have approximately square spatial resolution (20m x 22m) with reduced speckle due to the multi-look processing. To ease utilisation GRD products are resampled to square pixel spacing, with 10m x 10m or 20m x 20m commonly used. For more details about Sentinel-1 products, please refer to the ESA Technical Guides."
      ]
    },
    {
      "cell_type": "markdown",
      "metadata": {
        "id": "17vmfrm56GFK"
      },
      "source": [
        "[Back to the top](#Top)"
      ]
    },
    {
      "cell_type": "markdown",
      "metadata": {
        "id": "qMXy5PQAvgZp"
      },
      "source": [
        "<a name=\"3_2_3_Geometric_and_radiometric_corrections\"></a>\n",
        "#####**3.2.3 Geometric and radiometric corrections**"
      ]
    },
    {
      "cell_type": "markdown",
      "metadata": {
        "id": "eERI2SC6vmrq"
      },
      "source": [
        "The Sentinel-1 dual polarisation (VV+VH) High Resolution IW mode data used in this guide were geometrically corrected in SNAP using SRTM 30m (1 arcsec) Digital Elevation Model and projected to the same pixel spacing and geographical lat/long grid as the PALSAR-2 mosaics. The data were corrected for near-far range incidence angle variations and are thus given as gamma-nought ($\\gamma^{o}$). Radiometric corrections for topography (Radiometric Terrain Correction, RTC) was however not undertaken and terrain relief effects therefore remain in the images, as can be seen in several of the examples in section 3 below."
      ]
    },
    {
      "cell_type": "markdown",
      "metadata": {
        "id": "nCvYJ4IQv1vM"
      },
      "source": [
        "The output data, given in 32 bits FLOAT format, represent backscatter power, and the VV and VH images were thus converted from image digital numbers (DN) to $\\gamma^{o}$ by the equation:\n",
        "$\\gamma^{o}$ = $10 * log_{10}(DN)  [dB]$\n"
      ]
    },
    {
      "cell_type": "markdown",
      "metadata": {
        "id": "gLZRYnWevR4q"
      },
      "source": [
        "The steps to download and process the Sentinel-1 data examples in this document are outlined in detail in the Simple Manual for Sentinel-1 Download & Processing which is available for free download. The download package also contains the scripts used for the processing. "
      ]
    },
    {
      "cell_type": "markdown",
      "metadata": {
        "id": "3iwKJdueu1wv"
      },
      "source": [
        "[Back to the top](#Top)"
      ]
    },
    {
      "cell_type": "markdown",
      "metadata": {
        "id": "zjvCah9SI1DL"
      },
      "source": [
        "###**Quick Chapter Links**\n",
        "<a name=\"quick-links\"></a>\n",
        "\n",
        "1. <a href=\"https://colab.research.google.com/github/ceos-seo/odc-colab/blob/main/03.01.About_This_Guide.ipynb#About-this-guide\" target=\"_blank\">About this guide</a>\n",
        "\n",
        "2. <a href=\"https://colab.research.google.com/github/ceos-seo/odc-colab/blob/main/03.02.Briefly_About_Synthetic_Aperture_Radar.ipynb#Top\" target=\"_blank\">Briefly about Synthetic Aperture Radar</a>\n",
        "\n",
        "3. [Synthetic Aperture Radar data used in this guide](#Top)\n",
        "\n",
        "4. <a href=\"https://colab.research.google.com/github/ceos-seo/odc-colab/blob/main/03.04.Simple_SAR_interpretation_guide.ipynb\" target=\"_blank\">Simple SAR interpretation guide</a>\n",
        "\n",
        "5. <a href=\"https://colab.research.google.com/github/ceos-seo/odc-colab/blob/main/03.05.Resources_And_References.ipynb\" target=\"_blank\">Resources and references</a>"
      ]
    },
    {
      "cell_type": "markdown",
      "metadata": {
        "id": "18dXzooMI3KW"
      },
      "source": [
        "[Back to the top](#Top)"
      ]
    }
  ]
}
