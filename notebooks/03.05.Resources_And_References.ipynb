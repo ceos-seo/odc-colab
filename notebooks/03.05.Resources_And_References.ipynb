{
  "nbformat": 4,
  "nbformat_minor": 0,
  "metadata": {
    "colab": {
      "name": "03.05.Resources_And_References.ipynb",
      "provenance": [],
      "collapsed_sections": [],
      "include_colab_link": true
    },
    "kernelspec": {
      "name": "python3",
      "display_name": "Python 3"
    },
    "language_info": {
      "name": "python"
    }
  },
  "cells": [
    {
      "cell_type": "markdown",
      "metadata": {
        "id": "view-in-github",
        "colab_type": "text"
      },
      "source": [
        "<a href=\"https://colab.research.google.com/github/ceos-seo/odc-colab/blob/main/03.05.Resources_And_References.ipynb\" target=\"_parent\"><img src=\"https://colab.research.google.com/assets/colab-badge.svg\" alt=\"Open In Colab\"/></a>"
      ]
    },
    {
      "cell_type": "markdown",
      "metadata": {
        "id": "hiV-5UysugLe"
      },
      "source": [
        "#####**5 Resources and references**"
      ]
    },
    {
      "cell_type": "markdown",
      "metadata": {
        "id": "QBuaYVfOPAJc"
      },
      "source": [
        "<a name=\"Top\"></a>\n",
        "\n",
        "1. <a href=\"https://colab.research.google.com/github/ceos-seo/odc-colab/blob/main/03.01.About_This_Guide.ipynb\" target=\"_blank\">About this guide</a>\n",
        "\n",
        "2. <a href=\"https://colab.research.google.com/github/ceos-seo/odc-colab/blob/main/03.02.Briefly_About_Synthetic_Aperture_Radar.ipynb\" target=\"_blank\">Briefly about Synthetic Aperture Radar</a>\n",
        "\n",
        "3. <a href=\"https://colab.research.google.com/github/ceos-seo/odc-colab/blob/main/03.03.Synthetic_Aperture_Radar_Data_Used_In_This_Guide.ipynb\" target=\"_blank\">Synthetic Aperture Radar data used in this guide</a>\n",
        "\n",
        "4. <a href=\"https://colab.research.google.com//github/ceos-seo/odc-colab/blob/main/03.04.Simple_SAR_interpretation_guide.ipynb\" target=\"_blank\"> Simple SAR interpretation guide</a>\n",
        "\n",
        "5. [Resources and references](#Top)"
      ]
    },
    {
      "cell_type": "markdown",
      "metadata": {
        "id": "t0lpLwWWusnS"
      },
      "source": [
        "ALOS-2 PALSAR-2 25m global mosaics (Japan Aerospace Exploration Agency)\n",
        "\n",
        "JAXA 25m global mosaic download homepage: \n",
        "https://www.eorc.jaxa.jp/ALOS/en/palsar_fnf/fnf_index.htm\n",
        "\n",
        "Global mosaic format description:\n",
        "https://www.eorc.jaxa.jp/ALOS/en/palsar_fnf/DatasetDescription_PALSAR2_Mosaic_FNF_revH.pdf\n",
        "\n",
        "Global mosaic reference paper:\n",
        "Shimada, M. Ortho-Rectification and Slope Correction of SAR Data Using DEM and Its Accuracy Evaluation. IEEE Journal of Selected Topics in Applied Earth Observations and Remote Sensing. Dec. 2010, vol. 3, no. 4, pp 657 – 671.\n"
      ]
    },
    {
      "cell_type": "markdown",
      "metadata": {
        "id": "pGxulnrOu5AV"
      },
      "source": [
        "Sentinel-1 (European Space Agency)\n",
        "\n",
        "Copernicus Open Access Hub \n",
        "https://scihub.copernicus.eu\n",
        "\n",
        "Sentinel-1 SAR User Guide\n",
        "https://earth.esa.int/web/sentinel/user-guides/sentinel-1-sar\n",
        "\n",
        "Sentinel-1 SAR Technical Guide \n",
        "https://earth.esa.int/web/sentinel/technical-guides/sentinel-1-sar\n"
      ]
    },
    {
      "cell_type": "markdown",
      "metadata": {
        "id": "dsnAHbMMvg-X"
      },
      "source": [
        "CEOS\n",
        "\n",
        "CEOS Data & Tools\n",
        "http://ceos.org/data-tools/\n",
        "\n",
        "CEOS Analysis Ready Data\n",
        "http://ceos.org/ard/\n"
      ]
    },
    {
      "cell_type": "markdown",
      "metadata": {
        "id": "s_9Pni9wvlIU"
      },
      "source": [
        "Others\n",
        "\n",
        "Alaska Satellite Facility – Sentinel-1 data hub\n",
        "https://www.asf.alaska.edu/sentinel\n",
        "\n",
        "Simple Sentinel-1 download and process manual\n",
        "Simple Manual for Sentinel-1 Download & Processing\n",
        "\n"
      ]
    },
    {
      "cell_type": "markdown",
      "metadata": {
        "id": "9JpLrCTPP8pJ"
      },
      "source": [
        "[Back to the top](#Top)"
      ]
    },
    {
      "cell_type": "markdown",
      "metadata": {
        "id": "XPpxm0pXvpf6"
      },
      "source": [
        "**Acknowledgements**"
      ]
    },
    {
      "cell_type": "markdown",
      "metadata": {
        "id": "QKDibSR7vwJI"
      },
      "source": [
        "The development of this Interpretation Guide was funded by the CEOS Systems Engineering Office (SEO) and undertaken by Ake Rosenqvist (soloEO).\n",
        "\n",
        "Sentinel-1 data processing was undertaken \n",
        "by Anjillyn Perez and Nestor Olfindo.\n",
        "\n",
        "Comments and suggestions welcome to\n",
        "ake.rosenqvist@soloEO.com\n",
        "\n",
        "\n"
      ]
    },
    {
      "cell_type": "markdown",
      "metadata": {
        "id": "sxmxJxJYP9ep"
      },
      "source": [
        "[Back to the top](#Top)"
      ]
    },
    {
      "cell_type": "markdown",
      "metadata": {
        "id": "Z9ifeC0aJ4RD"
      },
      "source": [
        "###**Quick Chapter Links**\n",
        "<a name=\"quick-links\"></a>\n",
        "\n",
        "1. <a href=\"https://colab.research.google.com/github/ceos-seo/odc-colab/blob/main/03.01.About_This_Guide.ipynb#About-this-guide\" target=\"_blank\">About this guide</a>\n",
        "\n",
        "2. <a href=\"https://colab.research.google.com/github/ceos-seo/odc-colab/blob/main/03.02.Briefly_About_Synthetic_Aperture_Radar.ipynb#Top\" target=\"_blank\">Briefly about Synthetic Aperture Radar</a>\n",
        "\n",
        "3. <a href=\"https://colab.research.google.com/github/ceos-seo/odc-colab/blob/main/03.03.Synthetic_Aperture_Radar_Data_Used_In_This_Guide.ipynb#Top\" target=\"_blank\">Synthetic Aperture Radar data used in this guide</a>\n",
        "\n",
        "4. <a href=\"https://colab.research.google.com/github/ceos-seo/odc-colab/blob/main/03.04.Simple_SAR_interpretation_guide.ipynb#Top\" target=\"_blank\">Simple SAR interpretation guide</a>\n",
        "\n",
        "5. [Resources and references](#Top)\n"
      ]
    },
    {
      "cell_type": "markdown",
      "metadata": {
        "id": "DRyu3em0J7zd"
      },
      "source": [
        "[Back to the top](#Top)"
      ]
    }
  ]
}
