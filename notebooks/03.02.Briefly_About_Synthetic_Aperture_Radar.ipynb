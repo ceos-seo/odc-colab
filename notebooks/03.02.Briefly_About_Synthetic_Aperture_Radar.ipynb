{
  "nbformat": 4,
  "nbformat_minor": 0,
  "metadata": {
    "colab": {
      "name": "03.02.Briefly_About_Synthetic_Aperture_Radar.ipynb",
      "provenance": [],
      "collapsed_sections": [],
      "include_colab_link": true
    },
    "kernelspec": {
      "name": "python3",
      "display_name": "Python 3"
    },
    "language_info": {
      "name": "python"
    }
  },
  "cells": [
    {
      "cell_type": "markdown",
      "metadata": {
        "id": "view-in-github",
        "colab_type": "text"
      },
      "source": [
        "<a href=\"https://colab.research.google.com/github/ceos-seo/odc-colab/blob/main/03.02.Briefly_About_Synthetic_Aperture_Radar.ipynb\" target=\"_parent\"><img src=\"https://colab.research.google.com/assets/colab-badge.svg\" alt=\"Open In Colab\"/></a>"
      ]
    },
    {
      "cell_type": "markdown",
      "metadata": {
        "id": "sd8SWNujGCsw"
      },
      "source": [
        "#### **2 Briefly about Synthetic Aperture Radar**"
      ]
    },
    {
      "cell_type": "markdown",
      "metadata": {
        "id": "iUkh46o2qBnO"
      },
      "source": [
        "<a name=\"Top\"></a>\n",
        "\n",
        "1. <a href=\"https://colab.research.google.com/github/ceos-seo/odc-colab/blob/main/03.01.About_This_Guide.ipynb#About-this-guide\" target=\"_blank\">About this guide</a>\n",
        "\n",
        "2. [Briefly about Synthetic Aperture Radar](#Top)\n",
        "\n",
        "  2.1. [The radar wavelength](#2_1_The_radar_wavelength)\n",
        "\n",
        "  2.2. [Polarisation](#2_2_Polarisation)\n",
        "\n",
        "  2.3. [Radar backscatter](#2_3_Radar_backscatter)\n",
        "\n",
        "      2.3.1. [Sigma nought](#2_3_1_Sigma_nought)\n",
        "\n",
        "      2.3.2. [Gamma nought](#2_3_2_Gamma-nought)\n",
        "\n",
        "  2.4. [Backscatter mechanisms](#2_4_Backscatter_mechanisms)\n",
        "\n",
        "      2.4.1. [Direct backscatter](#2_4_1_Direct_backscatter)\n",
        "\n",
        "      2.4.2. [Forward scattering](#2_4_2_Forward_scattering)\n",
        "\n",
        "      2.4.3. [Diffuse scattering](#2_4_3_Diffuse_scattering)\n",
        "\n",
        "      2.4.4a. [Double-bounce scattering](#2_4_4a_Double_bounce_scattering)\n",
        "\n",
        "      2.4.4b. [Double-bounce scattering specular type](#2_4_4b_Double_bounce_scattering-specular_type)\n",
        "\n",
        "      2.4.5. [Volume scattering](#2_4_5_Volume_scattering)\n",
        "\n",
        "3. <a href=\"https://colab.research.google.com/github/ceos-seo/odc-colab/blob/main/03.03.Synthetic_Aperture_Radar_Data_Used_In_This_Guide.ipynb\" target=\"_blank\">Synthetic Aperture Radar data used in this guide</a>\n",
        "\n",
        "4. <a href=\"https://colab.research.google.com/github/ceos-seo/odc-colab/blob/main/03.04.Simple_SAR_interpretation_guide.ipynb\" target=\"_blank\"> Simple SAR interpretation guide</a>\n",
        "\n",
        "5. <a href=\"https://colab.research.google.com/github/ceos-seo/odc-colab/blob/main/03.05.Resources_And_References.ipynb\" target=\"_blank\">Resources and references</a>"
      ]
    },
    {
      "cell_type": "markdown",
      "metadata": {
        "id": "-d2ZsnrpGYgV"
      },
      "source": [
        "<a name=\"2_1_The_radar_wavelength\"></a>\n",
        "##### **2.1 The radar wavelength**"
      ]
    },
    {
      "cell_type": "markdown",
      "metadata": {
        "id": "EqsxJCOHGj8O"
      },
      "source": [
        "Synthetic Aperture Radar, SAR, is an active system operating in the microwave domain of the electromagnetic spectrum. Microwaves are not visible to the human eye and provide a very different view of the world from what we are used to. "
      ]
    },
    {
      "cell_type": "markdown",
      "metadata": {
        "id": "apvpBR0pGv7I"
      },
      "source": [
        "While optical remote sensing sensors function similar to the human eye – they are passive sensors which record reflected sunlight – a radar sensor operates more like a flash camera in a dark room. The radar emits a light pulse and records the part of the pulse that is reflected, or scattered, back to the sensor (hence the term backscatter). Unlike sunlight which is non-polarised and comprises a large range of different wavelengths, the radar is a laser which operates within narrow and well-defined wavelength bands, and at a specific polarisation."
      ]
    },
    {
      "cell_type": "markdown",
      "metadata": {
        "id": "N1FbPztlGz9D"
      },
      "source": [
        "Common present and near-future spaceborne radar systems operate with the following bands:\n",
        "* P-band: ~69.0 cm (BIOMASS) \n",
        "* L-band: ~23.5 cm (ALOS -2 PALSAR-2, SAOCOM-1, NISAR-L)\n",
        "* S-band: ~9.4 cm (NovaSAR, NISAR-S)\n",
        "* C-band: ~5.6 cm (Sentinel-1, Radarsat-2, RCM)\n",
        "* X-band: ~3.1 cm (TerraSAR-X, TanDEM-X, COSMO-SkyMed)\n",
        "\n",
        "\n",
        "\n",
        "\n"
      ]
    },
    {
      "cell_type": "markdown",
      "metadata": {
        "id": "cXpXt5SAHewz"
      },
      "source": [
        "The choice of wavelength band strongly affects what type (size) of objects the radar is sensitive to. As a rule of thumb, the radar “can see” objects of about the same spatial magnitude as the radar wavelength, and larger. Objects significantly smaller than the radar wavelength, become transparent to the radar, although they cause certain attenuation of the signal. The smaller the objects, the less influence (attenuation) on the backscatter."
      ]
    },
    {
      "cell_type": "markdown",
      "metadata": {
        "id": "Egb6zorRHzsJ"
      },
      "source": [
        "Longer wavelength radar signals (such as L-band) consequently penetrate through the forest canopy (since the small leaves are transparent) and interact with the larger structures such as the trunks and larger branches of trees – and hence display a positive, although limited, correlation with above-ground biomass. Systems operating at shorter wavelengths (such as C-band) on the other hand, are more sensitive to sparse and low biomass vegetation."
      ]
    },
    {
      "cell_type": "markdown",
      "metadata": {
        "id": "RTBq6jHorHBg"
      },
      "source": [
        "[Back to the top](#Top)"
      ]
    },
    {
      "cell_type": "markdown",
      "metadata": {
        "id": "KCvTJNgsIAEv"
      },
      "source": [
        "<a name=\"2_2_Polarisation\"></a>\n",
        "#####**2.2 Polarisation**"
      ]
    },
    {
      "cell_type": "markdown",
      "metadata": {
        "id": "fmeQFpbfIJwM"
      },
      "source": [
        "The radar polarisation is another parameter affecting the strength of the backscatter. Current spaceborne radar systems operate with linear polarisation, where the radar signals are transmitted and received at horizontal (H) and/or vertical (V) polarisation. "
      ]
    },
    {
      "cell_type": "markdown",
      "metadata": {
        "id": "sUo_xAcKIOzU"
      },
      "source": [
        "The polarisation of SAR imagery are commonly denoted by two letters, the first indicating the transmitted polarisation and the latter the received polarisation. \n",
        "\n",
        "* HH: Transmission of horizontal wave; Reception of horizontal component\n",
        "* HV: Horizontal transmission; Vertical reception\n",
        "* VH: Vertical transmission; Horizontal reception\n",
        "* VV: Vertical transmission; Vertical reception\n",
        "* Quad-pol (QP): H and V transmission; H and V reception (HH+HV+VH+VV)"
      ]
    },
    {
      "cell_type": "markdown",
      "metadata": {
        "id": "3N7lI8LaH2UC"
      },
      "source": [
        "HH and VV are commonly referred to as co-polarisation (or like-polarisation) backscatter components, while cross-polarisation connotes HV and VH."
      ]
    },
    {
      "cell_type": "markdown",
      "metadata": {
        "id": "1CS8Qdq3zVbA"
      },
      "source": [
        "[Back to the top](#Top)"
      ]
    },
    {
      "cell_type": "markdown",
      "metadata": {
        "id": "OBQccJnNI0b1"
      },
      "source": [
        "<a name=\"2_3_Radar_backscatter\"></a>\n",
        "#####**2.3 Radar backscatter**"
      ]
    },
    {
      "cell_type": "markdown",
      "metadata": {
        "id": "NRvBeNZ1JGxD"
      },
      "source": [
        "<a name=\"2_3_1_Sigma_nought\"></a>\n",
        "######**2.3.1  Sigma-nought**"
      ]
    },
    {
      "cell_type": "markdown",
      "metadata": {
        "id": "ThDj0tMNJRJg"
      },
      "source": [
        "Radar image brightness is normally expressed in $\\sigma^{o}$(sigma-nought) which is the radar backscatter per unit area. The unit of $\\sigma o$ is [m2/m2], expressed in decibel (dB).\n",
        "\n",
        "The standard formula to calculate $\\sigma^{o}$ from backscatter amplitude is:\n",
        "$$\\sigma^{o} =10 * \\log_{10}(DN^{2}) + K$$\n",
        "\n",
        "Where DN is the image pixel digital number measured in the SAR amplitude image (or more accurately, the average pixel value over a group of pixels). \n",
        "In case the data are provided as backscatter power (where $DN_{power} = [DN_{amplitude}]^{2}$ ) the formula becomes: \n",
        "$\\sigma^{o} = 10 * log_{10}(DN) + K$\n",
        "\n",
        "K is a calibration factor which varies depending on the SAR sensor and processor system used. \n",
        "\n",
        "For ALOS/PALSAR and ALOS-2/PALSAR-2 (amplitude) data provided by JAXA, the calibration factor is -83.0 dB and for JERS-1 SAR mosaic data it is -84.66 dB. For Sentinel-1 data provided through the Copernicus Open Access Hub (power), the calibration factor is 0 dB.\n"
      ]
    },
    {
      "cell_type": "markdown",
      "metadata": {
        "id": "KGZTSY7APlgM"
      },
      "source": [
        "<a name=\"2_3_2_Gamma-nought\"></a>\n",
        "######**2.3.2 Gamma-nought**"
      ]
    },
    {
      "cell_type": "markdown",
      "metadata": {
        "id": "vbpFDYe3Pag-"
      },
      "source": [
        "Even for homogeneous targets, $\\sigma^{o}$ varies depending on the angle between the ground normal and the sensor – the incidence angle – being higher (brighter) in the near-range part of the image (closest to the satellite) and lower (darker) in the far-range of the image, further away from the satellite. By normalising  $\\sigma^{o}$ with respect to the incidence angle we can remove some (but not all) of the range-dependency to obtain  $\\gamma^{o}$ (gamma-nought):\n",
        " $\\gamma^{o}=\\sigma^{o}/cos\\theta$,where $\\theta$ is the incidence angle.\n"
      ]
    },
    {
      "cell_type": "markdown",
      "metadata": {
        "id": "G6AKfvqYrnBq"
      },
      "source": [
        "<a name=\"2_4_Backscatter_mechanisms\"></a>\n",
        "##### **2.4 Backscatter mechanisms**"
      ]
    },
    {
      "cell_type": "markdown",
      "metadata": {
        "id": "dr4CsJg2PTHJ"
      },
      "source": [
        "In order to accurately interpret the content of a SAR image, some basic understanding of how radar signals interact with different land cover types is required. Below follows a short description of some of the most important backscatter mechanisms to keep in mind."
      ]
    },
    {
      "cell_type": "markdown",
      "metadata": {
        "id": "UKjrfmQOr6NN"
      },
      "source": [
        "<a name=\"2_4_1_Direct_backscatter\"></a>\n",
        "######**2.4.1 Direct backscatter**"
      ]
    },
    {
      "cell_type": "markdown",
      "metadata": {
        "id": "qSNnTOzMsEtj"
      },
      "source": [
        "Direct backscatter occurs when the transmitted signal is reflected directly back to the sensor by a single reflection, by a surface oriented perpendicular to the radar illumination direction. It results in a strong co-polarisation (HH or VV) reflection and appears bright in the SAR image."
      ]
    },
    {
      "cell_type": "markdown",
      "metadata": {
        "id": "t7D3szTwsJjG"
      },
      "source": [
        "Rock outcrops or bare mountain slopes oriented towards the radar can produce direct backscattering. At the short C-band wavelength, also the leaves in a dense vegetation canopy can cause direct scattering."
      ]
    },
    {
      "cell_type": "markdown",
      "metadata": {
        "id": "wQyFEcx83Ylf"
      },
      "source": [
        "*Direct scattering on surface facing the radar*\n",
        "\n",
        "<div align=\"center\">\n",
        "<img src=\"https://github.com/ceos-seo/odc-colab/blob/main/Images/1.%20Direct%20scattering%20on%20surface%20facing%20the%20radar.gif?raw=true\" width=\"400\" ></img></div>"
      ]
    },
    {
      "cell_type": "markdown",
      "metadata": {
        "id": "EBaPv71s9v0J"
      },
      "source": [
        "*Direct forest canopy scattering (short radar wavelengths)*\n",
        "<div align=\"center\">\n",
        "<img src=\"https://github.com/ceos-seo/odc-colab/blob/main/Images/2.%20Direct%20forest%20canopy%20scattering.gif?raw=true\" width=\"400\" ></img></div>"
      ]
    },
    {
      "cell_type": "markdown",
      "metadata": {
        "id": "qQnyusXeHNyP"
      },
      "source": [
        "[Back to the top](#Top)"
      ]
    },
    {
      "cell_type": "markdown",
      "metadata": {
        "id": "DteIS7BPts34"
      },
      "source": [
        "<a name=\"2_4_2_Forward_scattering\"></a>\n",
        "######**2.4.2 Forward scattering**"
      ]
    },
    {
      "cell_type": "markdown",
      "metadata": {
        "id": "y6BxevoNt6Ua"
      },
      "source": [
        "A smooth surface (relative to the radar wavelength), such as a calm water surface or (at longer wavelengths) a bare soil area results in little or no scattering back towards the radar antenna as the transmitted signal reflects once on the surface and continues its path away from the SAR antenna. Areas with forward scattering appear dark in the SAR image in both co- and cross-polarisation."
      ]
    },
    {
      "cell_type": "markdown",
      "metadata": {
        "id": "1VDXEuAy-uAv"
      },
      "source": [
        "*Forward scattering on smooth surface*\n",
        "<div align=\"center\">\n",
        "<img src=\"https://github.com/ceos-seo/odc-colab/blob/main/Images/3.%20Forward%20scattering%20on%20smooth%20surface.gif?raw=true\" width=\"400\"> </img></div>"
      ]
    },
    {
      "cell_type": "markdown",
      "metadata": {
        "id": "EDxokVUWHLo3"
      },
      "source": [
        "[Back to the top](#Top)"
      ]
    },
    {
      "cell_type": "markdown",
      "metadata": {
        "id": "y7WSe7twuCJv"
      },
      "source": [
        "<a name=\"2_4_3_Diffuse_scattering\"></a>\n",
        "######**2.4.3 Diffuse scattering**"
      ]
    },
    {
      "cell_type": "markdown",
      "metadata": {
        "id": "d8rUq1UZuKzs"
      },
      "source": [
        "A rough surface (relative to the radar wavelength), such as a ploughed field or waves on water, results in the signal being scattered in different directions. The component reflected back towards the radar (direct scatter) is measured. The rougher the surface, the higher the (co-pol) backscatter."
      ]
    },
    {
      "cell_type": "markdown",
      "metadata": {
        "id": "gTcGZwi3_avA"
      },
      "source": [
        "*Diffuse scattering on \"rough\" surface*\n",
        "<div align=\"center\">\n",
        "<img src=\"https://github.com/ceos-seo/odc-colab/blob/main/Images/4.%20Diffuse%20scattering%20on%20rough%20surface.gif?raw=true\" width=\"400\"></img></div>"
      ]
    },
    {
      "cell_type": "markdown",
      "metadata": {
        "id": "Gwi7p-HI_81t"
      },
      "source": [
        "*Diffuse scattering on rough water surface*\n",
        "<div align=\"center\">\n",
        "<img src=\"https://github.com/ceos-seo/odc-colab/blob/main/Images/5.%20Diffuse%20scattering%20on%20rough%20water%20surface.gif?raw=true\" width=\"400\"></img></div>"
      ]
    },
    {
      "cell_type": "markdown",
      "metadata": {
        "id": "85dqkzOnHJZW"
      },
      "source": [
        "[Back to the top](#Top)"
      ]
    },
    {
      "cell_type": "markdown",
      "metadata": {
        "id": "u-KiPQ9cuU0_"
      },
      "source": [
        "<a name=\"2_4_4a_Double_bounce_scattering\"></a>\n",
        "######**2.4.4a Double-bounce scattering**"
      ]
    },
    {
      "cell_type": "markdown",
      "metadata": {
        "id": "yvHi6hFAucYG"
      },
      "source": [
        "When the targets and ground surface are perpendicular, such as vertical tree stems on flat ground, they can act as corner reflectors, providing a “double-bounce” scattering effect that sends the radar signals back in the same direction they came from. Since multiple radar waves reflecting on a particular vertical target travel the exactly same total distance, no matter where on the target the reflection occurs, all returning waves remain coherent (have the same phase) and thus result in an enhanced return signal. As reflections on vertical targets do not alter the polarisation direction of the radar signals, double-bounce scattering occurs only at co-polarisation."
      ]
    },
    {
      "cell_type": "markdown",
      "metadata": {
        "id": "KbWeYr2kAS-G"
      },
      "source": [
        "*Double-bounce diffuse type*\n",
        "<div align=\"center\">\n",
        "<img src=\"https://github.com/ceos-seo/odc-colab/blob/main/Images/6.%20Double-bounce%20diffuse%20type.gif?raw=true\" width=\"400\"></img></div>"
      ]
    },
    {
      "cell_type": "markdown",
      "metadata": {
        "id": "mnnytt21BLFL"
      },
      "source": [
        "*Double bounce specular type*\n",
        "<div align=\"center\">\n",
        "<img src=\"https://github.com/ceos-seo/odc-colab/blob/main/Images/7.%20Double%20bounce%20specular%20type.gif?raw=true\" width=\"400\"></img></div>"
      ]
    },
    {
      "cell_type": "markdown",
      "metadata": {
        "id": "4VKwtMBmBdOb"
      },
      "source": [
        "*Specular double bounce on buildings facing the radar*\n",
        "<div align=\"center\">\n",
        "<img src =\"https://github.com/ceos-seo/odc-colab/blob/main/Images/8.%20Specular%20double%20bounce%20on%20buildings%20facing%20the%20radar.gif?raw=true\" width=\"400\"></img></div>"
      ]
    },
    {
      "cell_type": "markdown",
      "metadata": {
        "id": "2MQBLlLNHGcS"
      },
      "source": [
        "[Back to the top](#Top)"
      ]
    },
    {
      "cell_type": "markdown",
      "metadata": {
        "id": "p7IVgZbHt1cj"
      },
      "source": [
        "<a name=\"2_4_4b_Double_bounce_scattering-specular_type\"></a>\n",
        "######**2.4.4b Double-bounce scattering – specular type**"
      ]
    },
    {
      "cell_type": "markdown",
      "metadata": {
        "id": "BgqKMicDuvkI"
      },
      "source": [
        "In the case the forest floor is flooded, the diffuse scatter on the ground is replaced with a (loss-less) specular reflection on the water surface, resulting in a particularly strong co-polarised return signal. Specular double-bounce scattering can under certain circumstances also be observed e.g. in urban areas with buildings oriented towards the radar, in open waters by ships, bridges and oil platforms, as well as in irrigated rice fields through interactions between the plant stems (when vertical) and the water surface."
      ]
    },
    {
      "cell_type": "markdown",
      "metadata": {
        "id": "x3qLjrYzG1qN"
      },
      "source": [
        "[Back to the top](#Top)"
      ]
    },
    {
      "cell_type": "markdown",
      "metadata": {
        "id": "5MDoGC4Lu0oG"
      },
      "source": [
        "<a name =\"2_4_5_Volume_scattering\"></a>\n",
        "######**2.4.5  Volume scattering**"
      ]
    },
    {
      "cell_type": "markdown",
      "metadata": {
        "id": "ZFFMOBHou_S2"
      },
      "source": [
        "Volume scattering occurs when the radar signal is subject to multiple reflections within                      3-dimensional matter. At L-band, a common type of volume scattering is the one that occurs on twigs and branches within a forest canopy. At the shorter C-band wavelength, volume scattering can take place within the canopies of lower or sparse vegetation types, such as bushes, shrubs or agricultural crops. Since the orientation of the main scatterers is random, the polarisation of the backscattered signal is also random, rendering equal backscatter in co- and cross-polarisation. "
      ]
    },
    {
      "cell_type": "markdown",
      "metadata": {
        "id": "bzB09S-hBzec"
      },
      "source": [
        "*Volume scattering in a vegetation canopy*\n",
        "<div align=\"center\">\n",
        "<img src=\"https://github.com/ceos-seo/odc-colab/blob/main/Images/9.%20Volume%20scattering%20in%20a%20vegetation%20canopy.gif?raw=true\" width=\"400\"></img></div>"
      ]
    },
    {
      "cell_type": "markdown",
      "metadata": {
        "id": "ZfbCcL6mu7Vg"
      },
      "source": [
        "It should be noted that the scattering mechanisms described above seldom occur in isolation. The backscatter for a particular land cover type observed in a SAR image is typically the result of a combination of several mechanisms, where the total backscatter measured is the sum of the relevant different contributions ($\\gamma^{o}_{TOTAL}$= $\\gamma^{o}_{DIRECT} + \\gamma^{o}_{DOUBLE-BOUNCE} + \\gamma^{o}_{VOLUME} + \\gamma^{o}_{ETC}$)"
      ]
    },
    {
      "cell_type": "markdown",
      "metadata": {
        "id": "n-rRvj1XwM7b"
      },
      "source": [
        "[Back to the top](#Top)"
      ]
    },
    {
      "cell_type": "markdown",
      "metadata": {
        "id": "vcbrUS7QIF1i"
      },
      "source": [
        "###**Quick Chapter Links**\n",
        "<a name=\"quick-links\"></a>\n",
        "\n",
        "1. <a href=\"https://colab.research.google.com/github/ceos-seo/odc-colab/blob/main/03.01.About_This_Guide.ipynb#About-this-guide\" target=\"_blank\">About this guide</a>\n",
        "\n",
        "2. [Briefly about Synthetic Aperture Radar](#Top)\n",
        "\n",
        "3. <a href=\"https://colab.research.google.com/github/ceos-seo/odc-colab/blob/main/03.03.Synthetic_Aperture_Radar_Data_Used_In_This_Guide.ipynb\" target=\"_blank\">Synthetic Aperture Radar data used in this guide</a>\n",
        "\n",
        "4. <a href=\"https://colab.research.google.com/github/ceos-seo/odc-colab/blob/main/03.04.Simple_SAR_interpretation_guide.ipynb\" target=\"_blank\">Simple SAR interpretation guide</a>\n",
        "\n",
        "5. <a href=\"https://colab.research.google.com/github/ceos-seo/odc-colab/blob/main/03.05.Resources_And_References.ipynb\" target=\"_blank\">Resources and references</a>"
      ]
    },
    {
      "cell_type": "markdown",
      "metadata": {
        "id": "WFNhq3aLIK0l"
      },
      "source": [
        "[Back to the top](#Top)"
      ]
    }
  ]
}