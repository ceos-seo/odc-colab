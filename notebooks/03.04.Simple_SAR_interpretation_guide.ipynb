{
  "nbformat": 4,
  "nbformat_minor": 0,
  "metadata": {
    "colab": {
      "name": "03.04.Simple_SAR_interpretation_guide.ipynb",
      "provenance": [],
      "collapsed_sections": [],
      "include_colab_link": true
    },
    "kernelspec": {
      "name": "python3",
      "display_name": "Python 3"
    },
    "language_info": {
      "name": "python"
    }
  },
  "cells": [
    {
      "cell_type": "markdown",
      "metadata": {
        "id": "view-in-github",
        "colab_type": "text"
      },
      "source": [
        "<a href=\"https://colab.research.google.com/github/ceos-seo/odc-colab/blob/main/03.04.Simple_SAR_interpretation_guide.ipynb\" target=\"_parent\"><img src=\"https://colab.research.google.com/assets/colab-badge.svg\" alt=\"Open In Colab\"/></a>"
      ]
    },
    {
      "cell_type": "markdown",
      "metadata": {
        "id": "lFSf_GqM2X7e"
      },
      "source": [
        "#### **4 Simple SAR interpretation guide**"
      ]
    },
    {
      "cell_type": "markdown",
      "metadata": {
        "id": "Sa_mcGMc1JxY"
      },
      "source": [
        "<a name=\"Top\"></a>\n",
        "\n",
        "1. <a href=\"https://colab.research.google.com/github/ceos-seo/odc-colab/blob/main/03.01.About_This_Guide.ipynb#About-this-guide\" target=\"_blank\">About this guide</a>\n",
        "\n",
        "2. <a href=\"https://colab.research.google.com/github/ceos-seo/odc-colab/blob/main/03.02.Briefly_About_Synthetic_Aperture_Radar.ipynb\" target=\"_blank\">Briefly about Synthetic Aperture Radar</a>\n",
        "\n",
        "3. <a href=\"https://colab.research.google.com/github/ceos-seo/odc-colab/blob/main/03.03.Synthetic_Aperture_Radar_Data_Used_In_This_Guide.ipynb\" target=\"_blank\">Synthetic Aperture Radar data used in this guide</a>\n",
        "\n",
        "4. [Simple SAR interpretation guide](#Top)\n",
        "\n",
        "  4.1. [Cautions when using this guide](#4_1_Cautions_when_using_this_guide)\n",
        "\n",
        "  4.2. [Examples](#4_2_Examples)\n",
        "\n",
        "      4.2.1. [Dense tropical forest (Colombia)](#4_2_1_Dense_tropical_forest)\n",
        "\n",
        "      4.2.2. [Forest removals and secondary growth (Colombia)](#4_2_2_Forest_removals_and_secondary_growth)\n",
        "\n",
        "      4.2.3. [Forested wetlands (Brazil)](#4_2_3_Forested_wetlands)\n",
        "\n",
        "      4.2.4. [Mangrove (Tanzania)](#4_2_4_Mangrove)\n",
        "\n",
        "      4.2.5. [Forest plantations – Rubber (Vietnam)](#4_2_5_Forest_plantations_Rubber)\n",
        "\n",
        "      4.2.6. [Forest plantations – Oil palm and Acacia (Indonesia)](#4_2_6_Forest_plantations_Oil_palm_and_Acacia)\n",
        "\n",
        "      4.2.7. [Agriculture – Irrigated rice (Vietnam)](#4_2_7_Agriculture_Irrigated_rice)\n",
        "\n",
        "      4.2.8. [Agriculture (Switzerland)](#4_2_8_Agriculture)\n",
        "\n",
        "      4.2.9. [Rangelands and pastures (Brazil)](#4_2_9_Rangelands_and_pastures)\n",
        "\n",
        "      4.2.10. [Savannah (Tanzania/Kenya)](#4_2_10_Savannah)\n",
        "\n",
        "      4.2.11. [Arid terrain and rock outcrops (Kenya)](#4_2_11_Arid_terrain_and_rock_outcrops)\n",
        "\n",
        "      4.2.12. [Open water (Vietnam)](#4_2_12_Open_water)\n",
        "\n",
        "      4.2.13. [Signal attenuation (Brazil)](#4_2_13_Signal_attenuation)\n",
        "\n",
        "5. <a href=\"https://colab.research.google.com/github/ceos-seo/odc-colab/blob/main/03.05.Resources_And_References.ipynb\" target=\"_blank\">Resources and references</a>"
      ]
    },
    {
      "cell_type": "markdown",
      "metadata": {
        "id": "m2LKJbly1VNB"
      },
      "source": [
        "<a name=\"4_1_Cautions_when_using_this_guide\"></a>\n",
        "##### **4.1 Cautions when using this guide**"
      ]
    },
    {
      "cell_type": "markdown",
      "metadata": {
        "id": "BotAvOOz08yd"
      },
      "source": [
        "Below follow a number of examples of how some different land cover types around the globe can appear in (ALOS-2 PALSAR-2) HH and HV polarisation L-band SAR and (Sentinel-1) VV and VH polarisation C-band SAR data. In an effort to minimise backscatter variations due to temporal differences between the L- and C-band data, PALSAR-2 and Sentinel-1 data acquired as close in time as possible were selected. Time differences vary between a few days (in most cases) to several months (in a few cases). The observation dates are indicated."
      ]
    },
    {
      "cell_type": "markdown",
      "metadata": {
        "id": "hVS3d4up2W-a"
      },
      "source": [
        "It should be noted that the backscatter values given below the images represent the values measured in that particular image, given its local vegetation characteristics and local weather and seasonal conditions at the time of acquisition. So while the values are indeed meant to provide a feeling of typical responses for different land cover types, they should be considered indications only. To provide a hint of the backscatter variability, the standard deviations measured are also given (in brackets)."
      ]
    },
    {
      "cell_type": "markdown",
      "metadata": {
        "id": "ZxNZE-Fs2_JM"
      },
      "source": [
        "The backscatter images in the figures have been scaled from the original 16 and 32 bits data for visualisation purposes. While for instance the cross-polarisation (HV and VH) backscatter typically is lower (darker) than that of the co-polarisation channels (HH and VV), the two channels can look similar in the examples as different scaling factors have been used to maximise the visual impression."
      ]
    },
    {
      "cell_type": "markdown",
      "metadata": {
        "id": "VKXQmDez3DYP"
      },
      "source": [
        "RGB colour composite images are shown for reference, although it is important to keep in mind that there are neither any standardised rules on how represent microwave data visually, nor how to compose a 3-channel colour image from only two input channels. Yet, the [HH, HV, HH/HV] and [VV, VH, VV/VH] combinations used here for [R, G, B] for PALSAR-2 and Sentinel-1 respectively, are frequently utilised by remote sensing users."
      ]
    },
    {
      "cell_type": "markdown",
      "metadata": {
        "id": "MYn9FSNK3GJN"
      },
      "source": [
        "Finally it should be noted that the examples in this guide all show single-date images, which, as mentioned above, are susceptive to the local physical ground and atmospheric conditions which may vary considerably over time. For analysis of SAR data, multi-temporal time-series data are therefore commonly used both to reduce temporal “noise” in the data, as well as to better characterise highly dynamic land cover and land use types such as e.g. agriculture and wetland inundation."
      ]
    },
    {
      "cell_type": "markdown",
      "metadata": {
        "id": "ZKJypTPgUIWi"
      },
      "source": [
        "[Back to the top](#Top)"
      ]
    },
    {
      "cell_type": "markdown",
      "metadata": {
        "id": "RjeGpc-A3KJw"
      },
      "source": [
        "<a name=\"4_2_Examples\"></a>\n",
        "##### **4.2 Examples**"
      ]
    },
    {
      "cell_type": "markdown",
      "metadata": {
        "id": "nZx4QJFxTIE_"
      },
      "source": [
        "Some interactive examples of radar analysis can be viewed through [Getting Started](https://colab.research.google.com/github/ceos-seo/odc-colab/blob/master/notebooks/01.01.Getting_Started_ODC_and_Colab.ipynb#scrollTo=8leRDXsMoEU-) from the ODC Sandbox and here is the link to an example using [Sentinel-1 data](https://github.com/ceos-seo/odc-colab/blob/master/notebooks/02.08.Colab_S1_Flooding.ipynb).\n",
        "\n",
        "Interactive examples from the SAR guide that uses ODC Sandbox can be viewed through the below links:\n",
        "\n",
        "* [C-Band Examples](https://github.com/ceos-seo/odc-colab/blob/main/03.04.01.Examples_Of_Simple_SAR_Interpretation_Guide_C-Band.ipynb)\n",
        "* [L-Band Examples](https://github.com/ceos-seo/odc-colab/blob/main/03.04.01.Examples_Of_Simple_SAR_Interpretation_Guide_L-Band.ipynb)\n",
        "* [Combined C-Band and L-Band Examples](https://github.com/ceos-seo/odc-colab/blob/main/03.04.01.Examples_Of_Simple_SAR_Interpretation_Guide_C-Band_L-Band_Combined.ipynb)\n",
        "\n",
        "\n",
        "\n",
        "\n",
        "\n",
        "\n"
      ]
    },
    {
      "cell_type": "markdown",
      "metadata": {
        "id": "VAgKvBCW3RMl"
      },
      "source": [
        "<a name=\"4_2_1_Dense_tropical_forest\"></a>\n",
        "###### **4.2.1 Dense tropical forest (Colombia)**"
      ]
    },
    {
      "cell_type": "markdown",
      "metadata": {
        "id": "-rF3Btcw3cqF"
      },
      "source": [
        "<div align=\"center\">\n",
        "<img src=\"https://github.com/ceos-seo/odc-colab/blob/main/Images/17.%20Dense%20tropical%20forest%20(Columbia).png?raw=true\" width=\"800\"></img></div>\n",
        "\n",
        "<div align=\"center\">\n",
        "L-HH: -5.3 (+/- 1.9) dB(Left) L-HV: -9.8 (+/- 1.9) dB (Center)         Observation date: 30-SEP-2017(Right) </div>"
      ]
    },
    {
      "cell_type": "markdown",
      "metadata": {
        "id": "XKHqsHJv4N8m"
      },
      "source": [
        "<div align =\"center\">\n",
        "<img src = \"https://github.com/ceos-seo/odc-colab/blob/main/Images/18.%20CVV,%20CVH,%20Observation%20date.png?raw=true\"width=\"800\"></img></div>\n",
        "\n",
        "<div align =\"center\">\n",
        "C-VV: -6.2 (+/- 1.0) dB(Left) C-VH: -12.4 (+/- 1.0) dB(Center)            Observation date: 30-SEP-2017(Right)\n",
        "</div>\n",
        "\n",
        "\n"
      ]
    },
    {
      "cell_type": "markdown",
      "metadata": {
        "id": "4DyR9vDc4mGD"
      },
      "source": [
        "*Location: Caqueta, Colombia (N0.90º, W74.20º). Dense tropical rain forest in flat terrain.*"
      ]
    },
    {
      "cell_type": "markdown",
      "metadata": {
        "id": "u3C2IA8s59ia"
      },
      "source": [
        "L-band:\n",
        "\n",
        "Dense homogeneous forest results in high and uniform L-band backscatter at both HH and HV polarisations. The long wavelength (23.5 cm) L-band signal penetrates through the forest canopy (leaves typically being smaller than the radar wavelength) and interacts with twigs, branches and stems. The L-band backscatter is therefore closely correlated with forest structure, and due to extensive volume scattering, reaches higher HV backscatter than for any other land cover. \n"
      ]
    },
    {
      "cell_type": "markdown",
      "metadata": {
        "id": "OcXt--Sx6DSb"
      },
      "source": [
        "C-band:\n",
        "\n",
        "At the shorter (5.6 cm) C-band wavelength, the radar signal scatters directly on the leaves at the top of the canopy, without penetrating significantly through the foliage. Mature tropical forests therefore display uniform backscatter in both the VV and VH channels.\n"
      ]
    },
    {
      "cell_type": "markdown",
      "metadata": {
        "id": "qNSXD5J-UF9L"
      },
      "source": [
        "[Back to the top](#Top)"
      ]
    },
    {
      "cell_type": "markdown",
      "metadata": {
        "id": "4l0loGFf6G5G"
      },
      "source": [
        "<a name=\"4_2_2_Forest_removals_and_secondary_growth\"></a>\n",
        "###### **4.2.2 Forest removals and secondary growth (Colombia)**"
      ]
    },
    {
      "cell_type": "markdown",
      "metadata": {
        "id": "g-5joOdO61cN"
      },
      "source": [
        "<div align=\"center\">\n",
        "<img src=\"https://github.com/ceos-seo/odc-colab/blob/main/Images/19.1.%20Forest%20removals%20and%20secondary%20growth%20(Colombia)L-band.PNG?raw=true\" width=\"800\"></img></div>\n"
      ]
    },
    {
      "cell_type": "markdown",
      "metadata": {
        "id": "JBMap86T7vSX"
      },
      "source": [
        "<div align=\"center\">\n",
        "<img src = \"https://github.com/ceos-seo/odc-colab/blob/main/Images/19.2.%20Forest%20removals%20and%20secondary%20growth%20(Columbia)C-band.PNG?raw=true\" width=\"800\"></img></div>"
      ]
    },
    {
      "cell_type": "markdown",
      "metadata": {
        "id": "gc0jsupN8CyP"
      },
      "source": [
        "*Location: Caqueta, Colombia (N1.15º, W74.50º). Tropical forest conversion to mix of secondary growth and other land uses.*"
      ]
    },
    {
      "cell_type": "markdown",
      "metadata": {
        "id": "nq3wPrwt8GPx"
      },
      "source": [
        "L-band:\n",
        "\n",
        "In areas with deforestation and secondary forest growth, above-ground biomass levels (up to       ~100 t/ha) are in the optimal range of sensitivity for L-band. The long wavelength provides for clear distinction between clear cut areas and different growth stages, with the HV channel having improved sensitivity to bare soil areas (very low backscatter) and displaying a wider radiometric dynamic range than the HH channel."
      ]
    },
    {
      "cell_type": "markdown",
      "metadata": {
        "id": "lvt7aZWi8KXc"
      },
      "source": [
        "C-band:\n",
        "\n",
        "Since the structure of leaves and small twigs in the top canopy of mature forest can resemble that of secondary growth vegetation, both provide similar backscatter responses at C-band. Rough soil conditions and remnant debris after deforestation can also produce a strong backscatter that, despite the lower above-ground biomass levels, can hamper distinction between different forest growth stages at C-band.\n"
      ]
    },
    {
      "cell_type": "markdown",
      "metadata": {
        "id": "wrZNnjvUUEBj"
      },
      "source": [
        "[Back to the top](#Top)"
      ]
    },
    {
      "cell_type": "markdown",
      "metadata": {
        "id": "ZbgqwYgU8PX3"
      },
      "source": [
        "<a name=\"4_2_3_Forested_wetlands\"></a>\n",
        "######**4.2.3 Forested wetlands (Brazil)**  "
      ]
    },
    {
      "cell_type": "markdown",
      "metadata": {
        "id": "zv2turEt8jEy"
      },
      "source": [
        "<div align=\"center\">\n",
        "<img src=\"https://github.com/ceos-seo/odc-colab/blob/main/Images/19.3%20Forest%20wetlands(Brazil)L-band.png?raw=true\" width=\"800\"></img></div>\n",
        "<div align=\"center\">\n",
        "L-HH: -2.9 (+/- 1.7) dB(Left)            L-HV: -12.7 (+/- 2.4) dB(Center)        Observation date: 23-FEB-2017(Right)</div>\n"
      ]
    },
    {
      "cell_type": "markdown",
      "metadata": {
        "id": "ACna2M498jcG"
      },
      "source": [
        "<div align=\"center\">\n",
        "<img src=\"https://github.com/ceos-seo/odc-colab/blob/main/Images/19.4%20Forest%20wetlands%20(Brazil)C-band.png?raw=true\" width=\"800\"></img></div>\n",
        "<div align=\"center\">\n",
        "C-VV: -6.5 (+/- 1.1)dB(Left) C-VH: -12.3 (+/- 1.2) dB (Center) Observation date: 21-FEB-2017(Right)</div>"
      ]
    },
    {
      "cell_type": "markdown",
      "metadata": {
        "id": "DQlR5PvP954U"
      },
      "source": [
        "*Location: Jaú river, Central Amazon Basin, Brazil (S1.90º, W61.70º). Seasonally inundated floodplain forest.*"
      ]
    },
    {
      "cell_type": "markdown",
      "metadata": {
        "id": "73Alzc5S9_fx"
      },
      "source": [
        "L-band:\n",
        "\n",
        "In seasonally inundated floodplain forest, water floods parts of the forest floor during when river levels are high. With the L-band signal penetrating the canopy, the vertical stems and horizontal water surface give rise to a strong double-bounce reflection which produces an extremely high HH backscatter response. Flooded forest therefore appear very bright in HH polarisation. At HV polarisation on the other hand, which is dominated by volume backscatter only, the flooding extent is not visible and backscatter levels are similar to that of non-flooded (dryland) forest.\n"
      ]
    },
    {
      "cell_type": "markdown",
      "metadata": {
        "id": "qx7qmpxA-DEz"
      },
      "source": [
        "C-band:\n",
        "\n",
        "The density of the floodplain forest canopy does not change significantly between seasons, and the C-band backscatter therefore remains confined to the upper levels of the canopy regardless of any flooding below. C-band backscatter for inundated forest at both VV and VH polarisations are therefore not distinct from other forest types. In areas with sparser vegetation however, where the    C-band signal can reach the water surface through gaps in the canopy, specular double-bounce reflection can be observed at VV polarisation also at C-band (see C-VV figure, south of river).\n"
      ]
    },
    {
      "cell_type": "markdown",
      "metadata": {
        "id": "__xS1r8CUCRn"
      },
      "source": [
        "[Back to the top](#Top)"
      ]
    },
    {
      "cell_type": "markdown",
      "metadata": {
        "id": "qC-k9pRN-Krh"
      },
      "source": [
        "<a name=\"4_2_4_Mangrove\"></a>\n",
        "######**4.2.4 Mangrove (Tanzania)**\n"
      ]
    },
    {
      "cell_type": "markdown",
      "metadata": {
        "id": "6liaURH_-n3M"
      },
      "source": [
        "<div align=\"center\">\n",
        "<img src=\"https://github.com/ceos-seo/odc-colab/blob/main/Images/20.1%20Mangrove(Tanzania)L-band.PNG?raw=true\" width=\"800\"></img></div>\n"
      ]
    },
    {
      "cell_type": "markdown",
      "metadata": {
        "id": "xitrZbCE_UTS"
      },
      "source": [
        "<div align=\"center\">\n",
        "<img src=\"https://github.com/ceos-seo/odc-colab/blob/main/Images/20.2%20Mangrove%20(Tanzania)C-band.PNG?raw=true\" width=\"800\"></img></div>\n"
      ]
    },
    {
      "cell_type": "markdown",
      "metadata": {
        "id": "LmcDToPD_m40"
      },
      "source": [
        "*Location: Rufiji delta, Tanzania (S7.80º, E39.30º). River delta with mangrove forest.*"
      ]
    },
    {
      "cell_type": "markdown",
      "metadata": {
        "id": "u2UUppaK_sk-"
      },
      "source": [
        "L-band:\n",
        "\n",
        "In contrast to the inland floodplain forests example above, where vertical stems provide optimal conditions for specular double-bounce, the effect is not observed for mangrove forests, despite the presence of water under the canopy (during high tide). The non-linear structure of the mangroves trees with their crooked branches and complex aerial root systems, not only prevents double-bounce scattering but result in enhanced attenuation of the signal. L-band backscatter at both HH and HV polarisation is therefore several dB lower for mangroves than for other forest types.\n"
      ]
    },
    {
      "cell_type": "markdown",
      "metadata": {
        "id": "tsSD1IBQ_vhL"
      },
      "source": [
        "C-band:\n",
        "\n",
        "Similar to the previous forest examples, C-band backscatter mainly occurs at the top of the canopy. The strong canopy interaction however provides for increased sensitivity to canopy structure and consequently a certain potential for distinction of mangroves (and other vegetation) with different canopy “spatial texture”(at the scale of the Sentinel-1 geometric resolution). Smoother canopies typically display a lower backscatter at both VV and VH polarisation than “rougher”canopies with a higher degree of structural variation. \n"
      ]
    },
    {
      "cell_type": "markdown",
      "metadata": {
        "id": "_xHsQpNOUAST"
      },
      "source": [
        "[Back to the top](#Top)"
      ]
    },
    {
      "cell_type": "markdown",
      "metadata": {
        "id": "xEXTDbUg_yGh"
      },
      "source": [
        "<a name=\"4_2_5_Forest_plantations_Rubber\"></a>\n",
        "######**4.2.5 Forest plantations – Rubber (Vietnam)**"
      ]
    },
    {
      "cell_type": "markdown",
      "metadata": {
        "id": "PNQUNnEb_5hl"
      },
      "source": [
        "<div align=\"center\">\n",
        "<img src=\"https://github.com/ceos-seo/odc-colab/blob/main/Images/21.1%20Forest%20plantations-%20Rubber(Vietnam)L-band.PNG?raw=true\" width=\"800\"></img></div>\n"
      ]
    },
    {
      "cell_type": "markdown",
      "metadata": {
        "id": "_6ec1ID2AMGh"
      },
      "source": [
        "<div align=\"center\">\n",
        "<img src=\"https://github.com/ceos-seo/odc-colab/blob/main/Images/21.2%20Forest%20plantations-Rubber(Vietnam)C-band.PNG?raw=true\" width=\"800\"></img></div>\n"
      ]
    },
    {
      "cell_type": "markdown",
      "metadata": {
        "id": "QbqVcRvhARzd"
      },
      "source": [
        "*Location: Binh Duong, Vietnam (N11.15º, E106.85º). Rubber plantations.*"
      ]
    },
    {
      "cell_type": "markdown",
      "metadata": {
        "id": "1BPQxWeTAWYs"
      },
      "source": [
        "L-band:\n",
        "\n",
        "Rubber plantations are dynamic landscapes characterised by a patchwork of forest stands at different ages that are cleared and replanted at 15~25 year intervals. L-band backscatter is correlated with the growth of young stands up to approximately 100 t/ha. Both HH and HV polarisations are sensitive to forest growth, with the HV polarisation channel providing a slightly larger dynamic range due to better distinction of cleared and bare soil areas than at HH.\n"
      ]
    },
    {
      "cell_type": "markdown",
      "metadata": {
        "id": "g01LMrIrAar-"
      },
      "source": [
        "C-band:\n",
        "\n",
        "Rubber trees are deciduous with a leaf size of up to 13 ~ 15cm, i.e. 2-3 times larger than the C-band wavelength (5.6 cm). The dominant backscatter mechanism is therefore direct canopy scattering similar to the other forest type examples above. Rubber stands however often feature a semi-open canopy with some gaps between the trees, which could allow for some limited penetration also at C-band and some limited sensitivity to rubber growth stage. No significant correlation was observed in the image analysed however. One potential reason for this could be the that the study area was located at the very far range of the Sentinel-1 image, and thus was observed at a too shallow incidence angle (~45º) for any openings in the canopy to be visible.\n"
      ]
    },
    {
      "cell_type": "markdown",
      "metadata": {
        "id": "aYhZQMxQT-JI"
      },
      "source": [
        "[Back to the top](#Top)"
      ]
    },
    {
      "cell_type": "markdown",
      "metadata": {
        "id": "RRL-9jutCgiM"
      },
      "source": [
        "<a name=\"4_2_6_Forest_plantations_Oil_palm_and_Acacia\"></a>\n",
        "######**4.2.6 Forest plantations – Oil palm and Acacia (Indonesia)**"
      ]
    },
    {
      "cell_type": "markdown",
      "metadata": {
        "id": "tM_XPg5cCnG_"
      },
      "source": [
        "<div align=\"center\">\n",
        "<img src=\"https://github.com/ceos-seo/odc-colab/blob/main/Images/22.1%20Forest%20plantations(Indonesia)L-band.PNG?raw=true\" width=\"800\"></img></div>\n"
      ]
    },
    {
      "cell_type": "markdown",
      "metadata": {
        "id": "Y6HIOpNyC_Df"
      },
      "source": [
        "<div align=\"center\">\n",
        "<img src=\"https://github.com/ceos-seo/odc-colab/blob/main/Images/22.2%20Forest%20plantations(Indonesia)C-band.PNG?raw=true\" width=\"800\"></img></div>\n"
      ]
    },
    {
      "cell_type": "markdown",
      "metadata": {
        "id": "UgXJl2U6DFzk"
      },
      "source": [
        "*Location: Riau, Indonesia (N0.15º, E102.95º). Oil palm and Acacia plantations.*"
      ]
    },
    {
      "cell_type": "markdown",
      "metadata": {
        "id": "xuWLyomODKFE"
      },
      "source": [
        "L-band:\n",
        "\n",
        "Oil palms have dense canopies made up of large palm fronds that effectively prevent any signal penetration even at L-band. L-band backscatter is therefore confined to interaction at the top of the canopy and correlates with crown growth rather than stem biomass. For Acacia, the signal is partly attenuated by the long (~20 cm) oblong leaves in the canopy, resulting in a slightly lower HH and HV backscatter than for natural forest. HV backscatter is correlated with Acacia growth stages.\n"
      ]
    },
    {
      "cell_type": "markdown",
      "metadata": {
        "id": "JyFUqCjIDND7"
      },
      "source": [
        "C-band:\n",
        "\n",
        "Oil palm backscatter mechanisms at C-band backscatter are similar to those for L-band, dominated by strong direct reflections on the top of the crowns. Like in L-band, oil palms have a reddish colour in C-band RGB composites due to dominant direct co-polarisation scattering. Acacia is easily distinguishable at C-band due to a weak response at VV and strong response at VH polarisation, resulting in a greenish appearance in the C-band RGB composite.\n"
      ]
    },
    {
      "cell_type": "markdown",
      "metadata": {
        "id": "fCUEzHeLT8R4"
      },
      "source": [
        "[Back to the top](#Top)"
      ]
    },
    {
      "cell_type": "markdown",
      "metadata": {
        "id": "iftm4w1eDRf_"
      },
      "source": [
        "<a name=\"4_2_7_Agriculture_Irrigated_rice\"></a>\n",
        "######**4.2.7 Agriculture – Irrigated rice (Vietnam)**"
      ]
    },
    {
      "cell_type": "markdown",
      "metadata": {
        "id": "KTLknkODDW2X"
      },
      "source": [
        "<div align=\"center\">\n",
        "<img src=\"https://github.com/ceos-seo/odc-colab/blob/main/Images/23.1%20Agriculture%20Irrigated%20rice(Vietnam)L-band.PNG?raw=true\" width=\"800\"></img></div>\n"
      ]
    },
    {
      "cell_type": "markdown",
      "metadata": {
        "id": "F0nfbgM2Df6S"
      },
      "source": [
        "<div align=\"center\">\n",
        "<img src=\"https://github.com/ceos-seo/odc-colab/blob/main/Images/23.2%20Agriculture%20-%20Irrigated%20rice(Vietnam)C-band.PNG?raw=true\" width=\"800\"></img></div>"
      ]
    },
    {
      "cell_type": "markdown",
      "metadata": {
        "id": "yoPLE5uKDhlT"
      },
      "source": [
        "*Location: Dong Thap, Mekong delta, Vietnam (N10.60º, E105.55º).  Irrigated rice paddies.*"
      ]
    },
    {
      "cell_type": "markdown",
      "metadata": {
        "id": "sMdlN24ODhv1"
      },
      "source": [
        "L-band:\n",
        "\n",
        "Irrigated rice growth is clearly visible in L-band SAR data. Reflections between the vertical rice plants and the water surface of the flooded fields can result in a strong HH double-bounce backscatter, which increases throughout the vegetation season from planting to harvest. The HV response is dominated by volume scattering in the plant canopy and thus sensitive to rice plant biomass. In the (top) figure above, acquired during planting and early growth stages, the image is still dominated by low HH backscatter, giving the RGB composite image a purple appearance. \n"
      ]
    },
    {
      "cell_type": "markdown",
      "metadata": {
        "id": "u60TDFbFEFgB"
      },
      "source": [
        "C-band:\n",
        "\n",
        "Dual polarisation C-band is perhaps perfectly apt for irrigated rice monitoring, where the VV and VH backscatter are dominated by specular double-bounce and volume scattering, respectively. The shorter C-band signal displays stronger sensitivity than L-band also to the early growth stages when the young rice plans are too small to be detected at L-band. This is illustrated in the bottom figure above, where the wide range of different colours in the C-band RGB image represent growth stage variations between the fields. \n"
      ]
    },
    {
      "cell_type": "markdown",
      "metadata": {
        "id": "Cc-VjFS7T6aJ"
      },
      "source": [
        "[Back to the top](#Top)"
      ]
    },
    {
      "cell_type": "markdown",
      "metadata": {
        "id": "-rK9sntqEIKv"
      },
      "source": [
        "<a name=\"4_2_8_Agriculture)\"></a>\n",
        "######**4.2.8 Agriculture (Switzerland)**"
      ]
    },
    {
      "cell_type": "markdown",
      "metadata": {
        "id": "10gsy1rrDiFj"
      },
      "source": [
        "<div align=\"center\">\n",
        "<img src=\"https://github.com/ceos-seo/odc-colab/blob/main/Images/24.1%20Agriculture(Switzerland)L-band.PNG?raw=true\" width=\"800\"></img></div>\n"
      ]
    },
    {
      "cell_type": "markdown",
      "metadata": {
        "id": "gVntEqoiDix1"
      },
      "source": [
        "<div align=\"center\">\n",
        "<img src=\"https://github.com/ceos-seo/odc-colab/blob/main/Images/24.2%20Agriculture(Switzerland)C-band.PNG?raw=true\" width=\"800\"></img></div>\n"
      ]
    },
    {
      "cell_type": "markdown",
      "metadata": {
        "id": "aTvrQE6QE1Dn"
      },
      "source": [
        "*Location: Murtensee/Freiburg, Switzerland (N46.95º, E7.10º). Mixed agriculture area with forest patches.*"
      ]
    },
    {
      "cell_type": "markdown",
      "metadata": {
        "id": "OIo96Es0E4lU"
      },
      "source": [
        "L-band:\n",
        "\n",
        "In contrast to the paddy fields in the previous example, non-flooded (dryland) agricultural crops are largely transparent at the L-band wavelength, and signified by very low HV backscatter. The higher backscatter observed in the HH channel is likely not caused by the crop vegetation, but by direct scattering on ploughed fields and rough open soil. Agricultural areas typically have a purple appearance in the L-band RGB composite. The agricultural landscape can also be identified by geometrical patterns and textural features in the image, such as fields, roads and waterways. Isolated stands of forest appear green due to higher HV backscatter.\n"
      ]
    },
    {
      "cell_type": "markdown",
      "metadata": {
        "id": "X0cOgx9FE7zW"
      },
      "source": [
        "C-band:\n",
        "\n",
        "Dryland crops are clearly visible in C-band data, with strong correlation between VH polarisation backscatter and plant growth, as illustrated by the dominant green colours in the C-band RGB composite above. A dense crop canopy can result in a backscatter response similar to that of forest. C-band VV backscatter is also correlated with plant growth but can cause confusion for newly planted or harvested fields where soil roughness is likely to be the major cause for scattering.\n"
      ]
    },
    {
      "cell_type": "markdown",
      "metadata": {
        "id": "qA8Rfdb2T42P"
      },
      "source": [
        "[Back to the top](#Top)"
      ]
    },
    {
      "cell_type": "markdown",
      "metadata": {
        "id": "Dk1XitG7FE47"
      },
      "source": [
        "<a name=\"4_2_9_Rangelands_and_pastures\"></a>\n",
        "######**4.2.9 Rangelands and pastures (Brazil)**"
      ]
    },
    {
      "cell_type": "markdown",
      "metadata": {
        "id": "tQ3e1oVoFovi"
      },
      "source": [
        "<div align=\"center\">\n",
        "<img src=\"https://github.com/ceos-seo/odc-colab/blob/main/Images/25.1%20Rangelands%20&%20Pastures(Brazil)L-band.PNG?raw=true\" width=\"800\"></img></div>"
      ]
    },
    {
      "cell_type": "markdown",
      "metadata": {
        "id": "0mai93ORFQbM"
      },
      "source": [
        "<div align=\"center\">\n",
        "<img src=\"https://github.com/ceos-seo/odc-colab/blob/main/Images/25.2%20Rangelands%20&%20Pastures(Brazil)C-band.PNG?raw=true\" width=\"800\"></img></div>"
      ]
    },
    {
      "cell_type": "markdown",
      "metadata": {
        "id": "bkgZTczuFUBi"
      },
      "source": [
        "*Location: Mato Grosso, Brazil (S10.05º, W51.85º). Rangelands and pastures.*"
      ]
    },
    {
      "cell_type": "markdown",
      "metadata": {
        "id": "w_0XyHewFafi"
      },
      "source": [
        "L-band:\n",
        "\n",
        "The large cattle ranges in Mato Grosso are dominated by pasture grasslands. Due to the absence of vegetation at the size of the L-band wavelength (23.5 cm) and larger, backscatter is very low at both HH and HV polarisation. Pasture land is practically indistinguishable from bare soil, which both don a bluish colour in the L-band RGB composite image.\n"
      ]
    },
    {
      "cell_type": "markdown",
      "metadata": {
        "id": "jc0hLSaNF1BK"
      },
      "source": [
        "C-band:\n",
        "\n",
        "At C-band on the other hand, pastures with different vegetation (structure, growth stages) produce a range of different responses at both VV and VH polarisation, as manifested by the variety of colours in the C-band RGB composite. Non-vegetated fields with smooth surfaces that were not distinguishable at L-band from grassy fields can be identified by their low response at both VV and VH and blue colour in the RGB image. The bright areas surrounding the fields in the image are remaining tropical forest yet to be cleared.\n"
      ]
    },
    {
      "cell_type": "markdown",
      "metadata": {
        "id": "tR0TfBkCT3Rs"
      },
      "source": [
        "[Back to the top](#Top)"
      ]
    },
    {
      "cell_type": "markdown",
      "metadata": {
        "id": "Jfo8YUUyF3hg"
      },
      "source": [
        "<a name=\"4_2_10_Savannah\"></a>\n",
        "######**4.2.10 Savannah (Tanzania/Kenya)**"
      ]
    },
    {
      "cell_type": "markdown",
      "metadata": {
        "id": "otc_zrxQF9A3"
      },
      "source": [
        "<div align=\"center\">\n",
        "<img src=\"https://github.com/ceos-seo/odc-colab/blob/main/Images/26.1%20Savannah(Tanzania_Kenya)L-band.PNG?raw=true\" width=\"800\"></img></div>"
      ]
    },
    {
      "cell_type": "markdown",
      "metadata": {
        "id": "L3cHFn7mGDr3"
      },
      "source": [
        "<div align=\"center\">\n",
        "<img src=\"https://github.com/ceos-seo/odc-colab/blob/main/Images/26.2%20Savannah(Tanzania_Kenya)C-band.PNG?raw=true\" width=\"800\"></img></div>"
      ]
    },
    {
      "cell_type": "markdown",
      "metadata": {
        "id": "hmh02TMJGEbP"
      },
      "source": [
        "*Location: Serengeti, Tanzania & Masai Mara, Kenya (S1.45º, E4.84º).  Savannah (rainy season).*"
      ]
    },
    {
      "cell_type": "markdown",
      "metadata": {
        "id": "jZzMotb8GIpg"
      },
      "source": [
        "L-band:\n",
        "\n",
        "The vast savannah landscapes of East Africa are dominated by large expanses of grasslands dotted by clumps of trees and bush vegetation. The grassy savannah vegetation is transparent at L-band and results in very low return at both HH and HV polarisation. Due to the lack of volume scattering the HV backscatter is close to the noise floor of the radar. The slightly brighter features visible are caused by riparian vegetation along the river channels, and likely by clumps of bushes and trees.\n"
      ]
    },
    {
      "cell_type": "markdown",
      "metadata": {
        "id": "Bnbq-0BbGMYu"
      },
      "source": [
        "C-band:\n",
        "\n",
        "As mentioned previously for the Brazilian rangelands, the shorter C-band wavelength is highly sensitive to grasses and low vegetation, which produce a strong response at both VV and VH polarisation. The different colours visible in the C-band RGB composite above indicate variations in the savannah vegetation structure that are not visible at the longer L-band wavelength. The blue region in the central part of the image, which displays low backscatter at both co- and cross-polarisation, is likely a smooth bare soil area. As February represents rainy season in the area, high moisture content of the soil likely contributes to the low backscatter from the bare soil areas.\n"
      ]
    },
    {
      "cell_type": "markdown",
      "metadata": {
        "id": "c7tu0giwT1Xf"
      },
      "source": [
        "[Back to the top](#Top)"
      ]
    },
    {
      "cell_type": "markdown",
      "metadata": {
        "id": "5dxCoNlxGPn8"
      },
      "source": [
        "<a name=\"4_2_11_Arid_terrain_and_rock_outcrops\"></a>\n",
        "######**4.2.11  Arid terrain and rock outcrops (Kenya)**"
      ]
    },
    {
      "cell_type": "markdown",
      "metadata": {
        "id": "8FNewygrGI0e"
      },
      "source": [
        "<div align=\"center\">\n",
        "<img src=\"https://github.com/ceos-seo/odc-colab/blob/main/Images/27.1%20Arid%20terrain%20and%20rock%20outcrops(Kenya)L-band.PNG?raw=true\" width=\"800\"></img></div>"
      ]
    },
    {
      "cell_type": "markdown",
      "metadata": {
        "id": "QF6pZQ9NGI_l"
      },
      "source": [
        "<div align=\"center\">\n",
        "<img src=\"https://github.com/ceos-seo/odc-colab/blob/main/Images/27.2%20Arid%20terrain%20and%20rock%20outcrops(Kenya)C-band.PNG?raw=true\" width=\"800\"></img></div>"
      ]
    },
    {
      "cell_type": "markdown",
      "metadata": {
        "id": "_qN-XAblR67w"
      },
      "source": [
        "*Location: Marsabit, Kenya (N2.60º, E36.80º).  Arid landscape with exposed bedrock.*"
      ]
    },
    {
      "cell_type": "markdown",
      "metadata": {
        "id": "GY-uOheTR-_b"
      },
      "source": [
        "L-band:\n",
        "\n",
        "Rough and uneven terrain around Lake Turkana results in strong L-band surface reflections and high HH backscatter. The moderate backscatter also at HV polarisation indicates multiple scattering effects that possibly could be caused by the presence of large rocks.\n"
      ]
    },
    {
      "cell_type": "markdown",
      "metadata": {
        "id": "XxzO1OaySBHh"
      },
      "source": [
        "C-band:\n",
        "\n",
        "C-band backscatter mechanisms for arid rocky terrain resembles that of L-band, with high reflections at VV polarisation and moderate at VH polarisation. The uniform HV response indicates an absence of even low vegetation, and supports the theory posed for L-band above that it could be due to rocks on the ground.\n"
      ]
    },
    {
      "cell_type": "markdown",
      "metadata": {
        "id": "BcydpXLpTyyo"
      },
      "source": [
        "[Back to the top](#Top)"
      ]
    },
    {
      "cell_type": "markdown",
      "metadata": {
        "id": "bbCXN_2cSNpy"
      },
      "source": [
        "<a name=\"4_2_12_Open_water\"></a>\n",
        "######**4.2.12 Open water (Vietnam)**"
      ]
    },
    {
      "cell_type": "markdown",
      "metadata": {
        "id": "lQjX_llTSBT6"
      },
      "source": [
        "<div align=\"center\">\n",
        "<img src=\"https://github.com/ceos-seo/odc-colab/blob/main/Images/28.1%20Open%20water(Vietnam)L-band.PNG?raw=true\" width=\"800\"></img></div>"
      ]
    },
    {
      "cell_type": "markdown",
      "metadata": {
        "id": "nru7PVSnSCM5"
      },
      "source": [
        "<div align=\"center\">\n",
        "<img src=\"https://github.com/ceos-seo/odc-colab/blob/main/Images/28.2%20Open%20water(Vietnam)C-band.PNG?raw=true\" width=\"800\"></img></div>"
      ]
    },
    {
      "cell_type": "markdown",
      "metadata": {
        "id": "A-73PjY-SlfH"
      },
      "source": [
        "*Location: Vinh Cay Duong Bay, Vietnam (N10.00º, E104.75º). Open water.*"
      ]
    },
    {
      "cell_type": "markdown",
      "metadata": {
        "id": "-gDoaze_SrMi"
      },
      "source": [
        "L-band:\n",
        "\n",
        "Open water surfaces appear dark in L-band HV imagery and result in backscatter levels close to the sensor noise floor. At HH polarisation, a smooth water surface similarly results in no scattering back to the sensor, while waves on the water surface can result in a small but distinct increase in backscatter. The linear border visible in the right-hand side is due to a caused by the different incidence angles of the two images making up the PALSAR-2 mosaic. A steeper incidence angle (near range) results in stronger direct scattering and a higher HH backscatter. \n"
      ]
    },
    {
      "cell_type": "markdown",
      "metadata": {
        "id": "8PNdRwcCSxBi"
      },
      "source": [
        "C-band:\n",
        "\n",
        "C-band VV backscatter is highly sensitive to water surface roughness and can vary considerably, as illustrated in the image above which is likely to have been acquired during a strong storm event. As backscatter from open water is heavily dominated by direct surface scattering, C-band VH-backscatter remains extremely low, close to the noise floor, in most cases. The brighter VH backscatter patches visible in the example indicate a very strong storm event with waves causing multiple scattering effects. Note that the L- and C-band images were not acquired simultaneously and do not show the same surface conditions.\n"
      ]
    },
    {
      "cell_type": "markdown",
      "metadata": {
        "id": "cW-nS9vYTKFt"
      },
      "source": [
        "[Back to the top](#Top)"
      ]
    },
    {
      "cell_type": "markdown",
      "metadata": {
        "id": "uLcp38tNS0pZ"
      },
      "source": [
        "<a name=\"4_2_13_Signal_attenuation\"></a>\n",
        "######**4.2.13 Signal attenuation (Brazil)**"
      ]
    },
    {
      "cell_type": "markdown",
      "metadata": {
        "id": "t41SaX99S56I"
      },
      "source": [
        "<div align =\"center\">\n",
        "<img src =\"https://github.com/ceos-seo/odc-colab/blob/main/Images/29%20Signal%20attenuation(Brazil)C-band.PNG?raw=true\" width=\"800\"></img>"
      ]
    },
    {
      "cell_type": "markdown",
      "metadata": {
        "id": "m9XMCVwXTVQK"
      },
      "source": [
        "*Location: Central Amazon basin, Brazil (S2.25º, W60.75º).*"
      ]
    },
    {
      "cell_type": "markdown",
      "metadata": {
        "id": "Ztob-t5KTXPm"
      },
      "source": [
        "Microwave signals can under certain conditions be severely affected by atmospheric conditions and local weather events. In the example above, the left image shows a section of the Negro River floodplain acquired by Sentinel-1 during (assumed) “normal” weather conditions, while the right image shows the same area acquired by the same sensor a few weeks earlier during a heavy rain storm. The darker “cloud-like” features visible in the central part of the right image are caused by attenuation of the C-band radar signal by the dense rain clouds. Wave effects caused by the heavy rain and/or strong wind are also visible on the water surface (blue/purple in the RGB image). "
      ]
    },
    {
      "cell_type": "markdown",
      "metadata": {
        "id": "XUZz6D6oTaZq"
      },
      "source": [
        "The degree of signal attenuation by heavy rain is inversely proportional to the radar wavelength, with C-band (~ 5.6 cm) moderately affected and X-band (~ 3.1 cm) more severely so. X-band signals can under certain circumstances be completely absorbed, leaving no-data voids in the images. At the longer L-band wavelength (~ 23.5 cm) signal attenuation is generally not observed, although heavy rain can result in increased (HH) backscatter over forested areas due to the increased moisture content in the forest canopy. "
      ]
    },
    {
      "cell_type": "markdown",
      "metadata": {
        "id": "9tgzkD8bTjTg"
      },
      "source": [
        "While these kind of artefacts may be relatively easy to detect over homogeneous forest areas such as the example above, they can of course occur over all kinds of land cover and can bias and distort applications and results. Although the phenomenon cannot be avoided or corrected for, the impact can be mitigated by using data time-series (when applicable) to help identify and discard affected scenes."
      ]
    },
    {
      "cell_type": "markdown",
      "metadata": {
        "id": "mSe8zlL9ToA7"
      },
      "source": [
        "[Back to the top](#Top)"
      ]
    },
    {
      "cell_type": "markdown",
      "metadata": {
        "id": "YjotQNDDJXGK"
      },
      "source": [
        "###**Quick Chapter Links**\n",
        "<a name=\"quick-links\"></a>\n",
        "\n",
        "1. <a href=\"https://colab.research.google.com/github/ceos-seo/odc-colab/blob/main/03.01.About_This_Guide.ipynb#About-this-guide\" target=\"_blank\">About this guide</a>\n",
        "\n",
        "2. <a href=\"https://colab.research.google.com/github/ceos-seo/odc-colab/blob/main/03.02.Briefly_About_Synthetic_Aperture_Radar.ipynb#Top\" target=\"_blank\">Briefly about Synthetic Aperture Radar</a>\n",
        "\n",
        "3. <a href=\"https://colab.research.google.com/github/ceos-seo/odc-colab/blob/main/03.03.Synthetic_Aperture_Radar_Data_Used_In_This_Guide.ipynb#Top\" target=\"_blank\">Synthetic Aperture Radar data used in this guide</a>\n",
        "\n",
        "4. [Simple SAR interpretation guide](#Top)\n",
        "\n",
        "5. <a href=\"https://colab.research.google.com/github/ceos-seo/odc-colab/blob/main/03.05.Resources_And_References.ipynb\" target=\"_blank\">Resources and references</a>"
      ]
    },
    {
      "cell_type": "markdown",
      "metadata": {
        "id": "5aYJ795tJY0L"
      },
      "source": [
        "[Back to the top](#Top)"
      ]
    }
  ]
}
